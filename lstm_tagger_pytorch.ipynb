{
 "cells": [
  {
   "cell_type": "markdown",
   "metadata": {},
   "source": [
    "## LSTM Part-of-Speech Tagger\n",
    "### Step 1: Importing the <code>torch</code>  and other libraries"
   ]
  },
  {
   "cell_type": "code",
   "execution_count": 17,
   "metadata": {},
   "outputs": [
    {
     "data": {
      "text/plain": [
       "<torch._C.Generator at 0x7f2233771d70>"
      ]
     },
     "execution_count": 17,
     "metadata": {},
     "output_type": "execute_result"
    }
   ],
   "source": [
    "#torch stuff\n",
    "import torch\n",
    "import torch.nn as nn\n",
    "import torch.nn.functional as F\n",
    "import torch.optim as optim\n",
    "\n",
    "#other stuff\n",
    "import numpy as np\n",
    "import glob, os, random\n",
    "from sklearn.metrics import accuracy_score, precision_score, recall_score, f1_score, confusion_matrix\n",
    "torch.manual_seed(1)"
   ]
  },
  {
   "cell_type": "markdown",
   "metadata": {},
   "source": [
    "### Step 2: Get the helper functions"
   ]
  },
  {
   "cell_type": "code",
   "execution_count": 30,
   "metadata": {},
   "outputs": [],
   "source": [
    "# Read the data file\n",
    "def read_data(filepath):\n",
    "    data = []\n",
    "    with open(filepath, 'r', encoding=\"utf8\") as f:\n",
    "        for line in f:\n",
    "            data.append(tuple(zip(*[wt.split('/') for wt in line.strip().split()])))\n",
    "    return data\n",
    "\n",
    "# Get vocabs and tagset\n",
    "def get_vocab_tagset(data):\n",
    "    token_size, vocabs, tagset = 0, set(), set()\n",
    "    for words, tags in data:\n",
    "        token_size += len(words)\n",
    "        vocabs.update(words)\n",
    "        tagset.update(tags)\n",
    "    return vocabs, tagset, token_size\n",
    "\n",
    "# convert the sequencies to indexes and tensors\n",
    "def prepare_sequence(seq, to_ix):\n",
    "    idxs = [to_ix[w] if w in to_ix else 0 for w in seq]\n",
    "    return torch.tensor(idxs, dtype=torch.long)\n",
    "\n",
    "# indexing list elements: use this for vocabs and tagset\n",
    "def to_index(aList):\n",
    "    elem_to_idx = {e:aList.index(e)+1 for e in aList}\n",
    "    elem_to_idx['Unknown'] = 0  \n",
    "    idx_to_elem = {i:e for e,i in elem_to_idx.items()}\n",
    "    return elem_to_idx, idx_to_elem\n",
    "\n",
    "# import numpy as np\n",
    "def score_to_tag(tag_scores, i_to_tag):\n",
    "    tagged=[]\n",
    "    for preds in tag_scores:\n",
    "        preds = list(np.array(preds))\n",
    "        idx = preds.index(max(preds))\n",
    "        tagged.append(f\"{i_to_tag[idx]}\")\n",
    "    return tagged\n",
    "\n",
    "# tagged_files = [#\"igbo/ITC5.coarse*\", \"igbo/fiction.coarse*\", #coarse\n",
    "#                 #\"igbo/ITC5.fine*\", \"igbo/fiction.fine*\", #fine\n",
    "#                 \"welsh/*pos_coarse*\",\n",
    "#                 #\"welsh/*sem_coarse*\", \n",
    "#                 #\"welsh/*both_fine*\", \"welsh/*both_coarse*\",\n",
    "#                 #\"english/corpus.small\"\n",
    "#                 #\"swedish/*coarse*\"\n",
    "#                 ]\n",
    "# tagged data file\n",
    "tagged_data_file = \"all_corpora/welsh/cy_pos_coarse_tagged\""
   ]
  },
  {
   "cell_type": "markdown",
   "metadata": {},
   "source": [
    "### Step 3: Preparing the data"
   ]
  },
  {
   "cell_type": "code",
   "execution_count": 23,
   "metadata": {},
   "outputs": [
    {
     "name": "stdout",
     "output_type": "stream",
     "text": [
      "\n",
      "Reading all_corpora/welsh/cy_pos_coarse_tagged ..."
     ]
    }
   ],
   "source": [
    "# Read training data for each folder\n",
    "print(f\"\\nReading {tagged_data_file} ...\", end='')\n",
    "data = read_data(tagged_data_file)\n",
    "vocabs, tagset, token_size = get_vocab_tagset(data)\n",
    "\n",
    "# #Uncomment below for data statistics\n",
    "# print(f\"\\nSentences:\\t{len(training_data)}\\nToken size:\\t{token_size}\\nVocab size:\\t{len(vocabs)}\\nTagset size:\\t{len(tagset)}\")\n",
    "\n",
    "# Shuffle and split data\n",
    "random.seed(7)\n",
    "random.shuffle(data)\n",
    "test_size = 0.1 #90% of data for training; 10% of data for testing\n",
    "train_set, test_set = data[:-int(len(data)*test_size)], data[-int(len(data)*test_size):]\n",
    "\n",
    "EMBEDDING_DIM = 100\n",
    "HIDDEN_DIM = 5    \n",
    "word_to_idx, idx_to_word = to_index(list(vocabs))\n",
    "tag_to_idx, idx_to_tag = to_index(list(tagset))"
   ]
  },
  {
   "cell_type": "markdown",
   "metadata": {},
   "source": [
    "### Step 4: Creating the model"
   ]
  },
  {
   "cell_type": "code",
   "execution_count": 24,
   "metadata": {},
   "outputs": [],
   "source": [
    "class LSTMTagger(nn.Module):\n",
    "    def __init__(self, embedding_dim, hidden_dim, vocab_size, tagset_size):\n",
    "        super(LSTMTagger, self).__init__()\n",
    "        self.hidden_dim = hidden_dim\n",
    "        self.word_embeddings = nn.Embedding(vocab_size, embedding_dim)\n",
    "\n",
    "        # The LSTM takes word embeddings as inputs, and outputs hidden states\n",
    "        # with dimensionality hidden_dim.\n",
    "        self.lstm = nn.LSTM(embedding_dim, hidden_dim)\n",
    "\n",
    "        # The linear layer that maps from hidden state space to tag space\n",
    "        self.hidden2tag = nn.Linear(hidden_dim, tagset_size)\n",
    "\n",
    "    def forward(self, sentence):\n",
    "        embeds = self.word_embeddings(sentence)\n",
    "        lstm_out, _ = self.lstm(embeds.view(len(sentence), 1, -1))\n",
    "        tag_space = self.hidden2tag(lstm_out.view(len(sentence), -1))\n",
    "        tag_scores = F.log_softmax(tag_space, dim=1)\n",
    "        return tag_scores"
   ]
  },
  {
   "cell_type": "markdown",
   "metadata": {},
   "source": [
    "### Step 5: Training the model"
   ]
  },
  {
   "cell_type": "code",
   "execution_count": 32,
   "metadata": {},
   "outputs": [
    {
     "name": "stdout",
     "output_type": "stream",
     "text": [
      "Epoch:0 = 37.17%\n",
      "Epoch:1 = 43.85%\n",
      "Epoch:2 = 51.80%\n",
      "Epoch:3 = 55.95%\n",
      "Epoch:4 = 58.09%\n",
      "Epoch:5 = 60.43%\n",
      "Epoch:6 = 61.30%\n",
      "Epoch:7 = 61.90%\n",
      "Epoch:8 = 62.77%\n",
      "Epoch:9 = 63.77%\n",
      "Epoch:10 = 63.97%\n",
      "Epoch:11 = 64.10%\n",
      "Epoch:12 = 65.24%\n",
      "Epoch:13 = 66.31%\n",
      "Epoch:14 = 67.05%\n",
      "Epoch:15 = 67.91%\n",
      "Epoch:16 = 68.38%\n",
      "Epoch:17 = 69.18%\n",
      "Epoch:18 = 69.45%\n",
      "Epoch:19 = 69.79%\n",
      "Epoch:20 = 70.39%\n",
      "Epoch:21 = 70.12%\n",
      "Epoch:22 = 70.05%\n",
      "Epoch:23 = 70.39%\n",
      "Epoch:24 = 69.99%\n",
      "Epoch:25 = 70.45%\n",
      "Epoch:26 = 70.79%\n",
      "Epoch:27 = 70.92%\n",
      "Epoch:28 = 71.26%\n",
      "Epoch:29 = 71.32%\n",
      "Epoch:30 = 71.39%\n",
      "Epoch:31 = 71.26%\n",
      "Epoch:32 = 71.32%\n",
      "Epoch:33 = 71.26%\n",
      "Epoch:34 = 71.26%\n",
      "Epoch:35 = 71.52%\n",
      "Epoch:36 = 71.79%\n",
      "Epoch:37 = 71.86%\n",
      "Epoch:38 = 72.39%\n",
      "Epoch:39 = 72.13%\n",
      "Epoch:40 = 72.19%\n",
      "Epoch:41 = 72.33%\n",
      "Epoch:42 = 72.66%\n",
      "Epoch:43 = 72.33%\n",
      "Epoch:44 = 72.66%\n",
      "Epoch:45 = 72.53%\n",
      "Epoch:46 = 72.53%\n",
      "Epoch:47 = 72.39%\n",
      "Epoch:48 = 72.46%\n",
      "Epoch:49 = 72.59%\n",
      "Epoch:50 = 72.66%\n",
      "Epoch:51 = 72.59%\n",
      "Epoch:52 = 72.86%\n",
      "Epoch:53 = 72.73%\n",
      "Epoch:54 = 73.33%\n",
      "Epoch:55 = 73.13%\n",
      "Epoch:56 = 73.80%\n",
      "Epoch:57 = 73.20%\n",
      "Epoch:58 = 73.73%\n",
      "Epoch:59 = 73.33%\n",
      "Epoch:60 = 73.66%\n",
      "Epoch:61 = 73.73%\n",
      "Epoch:62 = 73.46%\n",
      "Epoch:63 = 73.66%\n",
      "Epoch:64 = 73.60%\n",
      "Epoch:65 = 73.93%\n",
      "Epoch:66 = 73.73%\n",
      "Epoch:67 = 73.93%\n",
      "Epoch:68 = 74.00%\n",
      "Epoch:69 = 74.13%\n",
      "Epoch:70 = 74.47%\n",
      "Epoch:71 = 73.93%\n",
      "Epoch:72 = 74.20%\n",
      "Epoch:73 = 74.40%\n",
      "Epoch:74 = 73.86%\n",
      "Epoch:75 = 74.53%\n",
      "Epoch:76 = 74.53%\n",
      "Epoch:77 = 74.60%\n",
      "Epoch:78 = 74.73%\n",
      "Epoch:79 = 74.73%\n",
      "Epoch:80 = 74.47%\n",
      "Epoch:81 = 74.87%\n",
      "Epoch:82 = 74.26%\n",
      "Epoch:83 = 74.93%\n",
      "Epoch:84 = 74.67%\n",
      "Epoch:85 = 74.53%\n",
      "Epoch:86 = 74.67%\n",
      "Epoch:87 = 74.60%\n",
      "Epoch:88 = 75.00%\n",
      "Epoch:89 = 74.93%\n",
      "Epoch:90 = 74.67%\n",
      "Epoch:91 = 74.87%\n",
      "Epoch:92 = 74.87%\n",
      "Epoch:93 = 74.93%\n",
      "Epoch:94 = 74.73%\n",
      "Epoch:95 = 74.87%\n",
      "Epoch:96 = 74.80%\n",
      "Epoch:97 = 74.73%\n",
      "Epoch:98 = 75.00%\n",
      "Epoch:99 = 74.73%\n"
     ]
    }
   ],
   "source": [
    "model = LSTMTagger(EMBEDDING_DIM, HIDDEN_DIM, len(word_to_idx), len(tag_to_idx))\n",
    "loss_function = nn.NLLLoss()\n",
    "optimizer = optim.SGD(model.parameters(), lr=0.1)\n",
    "\n",
    "# Note that element i,j of the output is the score for tag j for word i.\n",
    "# Here we don't need to train, so the code is wrapped in torch.no_grad()\n",
    "\n",
    "for epoch in range(10):  # again, normally you would NOT do 300 epochs, it is toy data\n",
    "    for sentence, tags in train_set:\n",
    "        # Step 1. Remember that Pytorch accumulates gradients.\n",
    "        # We need to clear them out before each instance\n",
    "        model.zero_grad()\n",
    "\n",
    "        # Step 2. Get our inputs ready for the network, that is, turn them into\n",
    "        # Tensors of word indices.\n",
    "        sentence_in = prepare_sequence(sentence, word_to_idx)\n",
    "        targets = prepare_sequence(tags, tag_to_idx)\n",
    "\n",
    "        # Step 3. Run our forward pass.\n",
    "        tag_scores = model(sentence_in)\n",
    "\n",
    "        # Step 4. Compute the loss, gradients, and update the parameters by\n",
    "        #  calling optimizer.step()\n",
    "        loss = loss_function(tag_scores, targets)\n",
    "        loss.backward()\n",
    "        optimizer.step()\n",
    "\n",
    "    with torch.no_grad():\n",
    "        y_gold, y_pred = [], []\n",
    "        for sent in test_set:\n",
    "            y_gold.extend(sent[1])\n",
    "            inputs = prepare_sequence(sent[0], word_to_idx)\n",
    "            tag_scores = model(inputs)\n",
    "            y_pred.extend(score_to_tag(tag_scores, idx_to_tag))\n",
    "        score = [yg==yp for yg,yp in zip(y_gold, y_pred)]\n",
    "        print(f\"Epoch:{epoch:02d} = {sum(score)/len(score)*100:.2f}%|{accuracy_score(y_gold, y_pred)*100:.2f}%\")"
   ]
  },
  {
   "cell_type": "markdown",
   "metadata": {},
   "source": [
    "# ***** Forget about anything below here *****"
   ]
  },
  {
   "cell_type": "code",
   "execution_count": 25,
   "metadata": {},
   "outputs": [
    {
     "ename": "NameError",
     "evalue": "name 'untagged_sent' is not defined",
     "output_type": "error",
     "traceback": [
      "\u001b[0;31m---------------------------------------------------------------------------\u001b[0m",
      "\u001b[0;31mNameError\u001b[0m                                 Traceback (most recent call last)",
      "\u001b[0;32m<ipython-input-25-26e416693ce2>\u001b[0m in \u001b[0;36m<module>\u001b[0;34m()\u001b[0m\n\u001b[1;32m      8\u001b[0m         \u001b[0mscores\u001b[0m \u001b[0;34m=\u001b[0m \u001b[0;34m[\u001b[0m\u001b[0mt1\u001b[0m\u001b[0;34m==\u001b[0m\u001b[0mt2\u001b[0m \u001b[0;32mfor\u001b[0m \u001b[0mt1\u001b[0m\u001b[0;34m,\u001b[0m\u001b[0mt2\u001b[0m \u001b[0;32min\u001b[0m \u001b[0mzip\u001b[0m\u001b[0;34m(\u001b[0m\u001b[0mtagged_sent\u001b[0m\u001b[0;34m,\u001b[0m \u001b[0mmodel_tagged\u001b[0m\u001b[0;34m)\u001b[0m\u001b[0;34m]\u001b[0m\u001b[0;34m\u001b[0m\u001b[0m\n\u001b[1;32m      9\u001b[0m         \u001b[0;32mreturn\u001b[0m\u001b[0;34m(\u001b[0m\u001b[0;34mf\"Score:\\t{sum(scores)/len(scores)*100:.2f}%\"\u001b[0m\u001b[0;34m)\u001b[0m\u001b[0;34m\u001b[0m\u001b[0m\n\u001b[0;32m---> 10\u001b[0;31m \u001b[0mtest_score\u001b[0m\u001b[0;34m(\u001b[0m\u001b[0;34m)\u001b[0m\u001b[0;34m\u001b[0m\u001b[0m\n\u001b[0m",
      "\u001b[0;32m<ipython-input-25-26e416693ce2>\u001b[0m in \u001b[0;36mtest_score\u001b[0;34m()\u001b[0m\n\u001b[1;32m      2\u001b[0m \u001b[0;32mdef\u001b[0m \u001b[0mtest_score\u001b[0m\u001b[0;34m(\u001b[0m\u001b[0;34m)\u001b[0m\u001b[0;34m:\u001b[0m\u001b[0;34m\u001b[0m\u001b[0m\n\u001b[1;32m      3\u001b[0m     \u001b[0;32mwith\u001b[0m \u001b[0mtorch\u001b[0m\u001b[0;34m.\u001b[0m\u001b[0mno_grad\u001b[0m\u001b[0;34m(\u001b[0m\u001b[0;34m)\u001b[0m\u001b[0;34m:\u001b[0m\u001b[0;34m\u001b[0m\u001b[0m\n\u001b[0;32m----> 4\u001b[0;31m         \u001b[0minputs\u001b[0m \u001b[0;34m=\u001b[0m \u001b[0mprepare_sequence\u001b[0m\u001b[0;34m(\u001b[0m\u001b[0muntagged_sent\u001b[0m\u001b[0;34m,\u001b[0m \u001b[0mword_to_idx\u001b[0m\u001b[0;34m)\u001b[0m\u001b[0;34m\u001b[0m\u001b[0m\n\u001b[0m\u001b[1;32m      5\u001b[0m         \u001b[0mtag_scores\u001b[0m \u001b[0;34m=\u001b[0m \u001b[0mmodel\u001b[0m\u001b[0;34m(\u001b[0m\u001b[0minputs\u001b[0m\u001b[0;34m)\u001b[0m\u001b[0;34m\u001b[0m\u001b[0m\n\u001b[1;32m      6\u001b[0m         \u001b[0mmodel_tagged\u001b[0m \u001b[0;34m=\u001b[0m \u001b[0mscore_to_tag\u001b[0m\u001b[0;34m(\u001b[0m\u001b[0muntagged_sent\u001b[0m\u001b[0;34m,\u001b[0m \u001b[0mtag_scores\u001b[0m\u001b[0;34m,\u001b[0m \u001b[0midx_to_tag\u001b[0m\u001b[0;34m)\u001b[0m\u001b[0;34m\u001b[0m\u001b[0m\n",
      "\u001b[0;31mNameError\u001b[0m: name 'untagged_sent' is not defined"
     ]
    }
   ],
   "source": [
    "# print(\"\\nScores after training:\")\n",
    "def test_score():\n",
    "    with torch.no_grad():\n",
    "        inputs = prepare_sequence(untagged_sent, word_to_idx)\n",
    "        tag_scores = model(inputs)\n",
    "        model_tagged = score_to_tag(untagged_sent, tag_scores, idx_to_tag)\n",
    "        #print(\" \".join(model_tagged))\n",
    "        scores = [t1==t2 for t1,t2 in zip(tagged_sent, model_tagged)]\n",
    "        return(f\"Score:\\t{sum(scores)/len(scores)*100:.2f}%\")\n",
    "test_score()"
   ]
  },
  {
   "cell_type": "code",
   "execution_count": 9,
   "metadata": {},
   "outputs": [],
   "source": [
    "with open('all_corpora/welsh/cy_pos_fine_tagged', 'w', encoding='utf8') as f1:\n",
    "    with open('all_corpora/welsh/cy_both_fine_tagged', 'r', encoding='utf8') as f2:\n",
    "        for line in f2:\n",
    "            f1.write(\" \".join(\"/\".join(wt.split('|',1)) for wt in line.split())+\"\\n\")"
   ]
  },
  {
   "cell_type": "code",
   "execution_count": 15,
   "metadata": {},
   "outputs": [],
   "source": [
    "import re\n",
    "with open('all_corpora/welsh/cy_sem_coarse_tagged', 'w', encoding='utf8') as f1:\n",
    "    with open('all_corpora/welsh/cy_both_fine_tagged', 'r', encoding='utf8') as f2:\n",
    "        for line in f2:\n",
    "            words, tags = tuple(zip(*[wt.split('/',1) for wt in line.strip().split()]))\n",
    "#             pos_tags = [tag.split('|')[0] for tag in tags]\n",
    "            sem_tags = [re.findall(r'[A-Za-z]+\\d*',tag.split('|',1)[1])[0] for tag in tags]\n",
    "#             coarse_pos_sem = [\"|\".join(ps) for ps in zip(pos_tags,sem_tags)]\n",
    "#             word_coarse_pos_sem = [f\"{w}/{t}\" for w,t in zip(words, coarse_pos_sem)]\n",
    "            word_coarse_sem = [f\"{w}/{t}\" for w,t in zip(words, sem_tags)]\n",
    "#             print(f\"{words}\\n\\n{tags}\\n\\n{both}\\n\\n{' '.join(word_both_tags)}\")\n",
    "#             print(f\"{i}\\t{' '.join(word_coarse_pos_sem)}\")\n",
    "            f1.write(f\"{' '.join(word_coarse_sem)}\\n\")\n",
    "#             break"
   ]
  }
 ],
 "metadata": {
  "kernelspec": {
   "display_name": "Python 3",
   "language": "python",
   "name": "python3"
  },
  "language_info": {
   "codemirror_mode": {
    "name": "ipython",
    "version": 3
   },
   "file_extension": ".py",
   "mimetype": "text/x-python",
   "name": "python",
   "nbconvert_exporter": "python",
   "pygments_lexer": "ipython3",
   "version": "3.7.0"
  }
 },
 "nbformat": 4,
 "nbformat_minor": 2
}
