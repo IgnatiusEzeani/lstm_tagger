{
 "cells": [
  {
   "cell_type": "markdown",
   "metadata": {
    "colab_type": "text",
    "id": "N76UvzJAnLf2"
   },
   "source": [
    "# Training Welsh Taggers with LSTM\n",
    "\n",
    "#### This is a simple LSTM implemetation of a tagger used for building Welsh POS and Semantic taggers  \n",
    "\n",
    "### Step 1: Importing the <code>torch</code>  and other libraries"
   ]
  },
  {
   "cell_type": "code",
   "execution_count": 1,
   "metadata": {
    "colab": {},
    "colab_type": "code",
    "collapsed": true,
    "id": "X7I2MBq1m_9Y"
   },
   "outputs": [],
   "source": [
    "#torch stuff\n",
    "import torch\n",
    "import torch.nn as nn\n",
    "import torch.nn.functional as F\n",
    "import torch.optim as optim\n",
    "torch.manual_seed(1)\n",
    "\n",
    "#other stuff\n",
    "import numpy as np\n",
    "import pickle\n",
    "import glob, os, random\n",
    "from sklearn.metrics import accuracy_score, precision_score, recall_score, f1_score, confusion_matrix\n",
    "import warnings\n",
    "from timeit import default_timer as timer"
   ]
  },
  {
   "cell_type": "markdown",
   "metadata": {
    "colab_type": "text",
    "id": "AbRGQ1qYnoI0"
   },
   "source": [
    "### Step 2: Get the helper functions"
   ]
  },
  {
   "cell_type": "code",
   "execution_count": 2,
   "metadata": {
    "colab": {},
    "colab_type": "code",
    "collapsed": true,
    "id": "dhlxO4wbnnnW"
   },
   "outputs": [],
   "source": [
    "# Read the data file\n",
    "def read_data(filepath):\n",
    "    data = []\n",
    "    with open(filepath, 'r', encoding=\"utf8\") as f:\n",
    "        for line in f:\n",
    "            data.append(tuple(zip(*[wt.split('/') for wt in line.strip().split()])))\n",
    "    return data\n",
    "\n",
    "# Get vocabs and tagset\n",
    "def get_vocab_tagset(data):\n",
    "    token_size, vocabs, tagset = 0, set(), set()\n",
    "    for words, tags in data:\n",
    "        token_size += len(words)\n",
    "        vocabs.update(words)\n",
    "        tagset.update(tags)\n",
    "    return vocabs, tagset, token_size\n",
    "\n",
    "# convert the sequencies to indexes and tensors\n",
    "def prepare_sequence(seq, to_ix):\n",
    "    idxs = [to_ix[w] if w in to_ix else 0 for w in seq]\n",
    "    return torch.tensor(idxs, dtype=torch.long)\n",
    "\n",
    "# indexing list elements: use this for vocabs and tagset\n",
    "def to_index(aList):\n",
    "    elem_to_idx = {e:aList.index(e)+1 for e in aList}\n",
    "    elem_to_idx['Unknown'] = 0  \n",
    "    idx_to_elem = {i:e for e,i in elem_to_idx.items()}\n",
    "    return elem_to_idx, idx_to_elem\n",
    "\n",
    "# import numpy as np\n",
    "def score_to_tag(tag_scores, i_to_tag):\n",
    "    tagged=[]\n",
    "    for preds in tag_scores:\n",
    "        preds = list(np.array(preds))\n",
    "        idx = preds.index(max(preds))\n",
    "        tagged.append(f\"{i_to_tag[idx]}\")\n",
    "    return tagged\n",
    "\n",
    "# tagged_data_file = \"../path/to/the/tagged_data_file\"\n",
    "# tagged_data_file = \"all_corpora/welsh/cy_pos_coarse_tagged\"\n",
    "tagged_data_file = \"all_corpora/welsh/cy_sem_coarse_tagged\"\n",
    "# tagged_data_file = \"all_corpora/welsh/cy_both_coarse_tagged\""
   ]
  },
  {
   "cell_type": "markdown",
   "metadata": {
    "colab_type": "text",
    "id": "apL3kcRTopW_"
   },
   "source": [
    "### Step 3: Preparing the data"
   ]
  },
  {
   "cell_type": "code",
   "execution_count": 3,
   "metadata": {
    "colab": {
     "base_uri": "https://localhost:8080/",
     "height": 51
    },
    "colab_type": "code",
    "id": "L8R1Q3bCnwaM",
    "outputId": "a7a289a9-2529-4984-da31-cba7afe110e7"
   },
   "outputs": [
    {
     "name": "stdout",
     "output_type": "stream",
     "text": [
      "\n",
      "Reading all_corpora/welsh/cy_sem_coarse_tagged ...\n",
      "Sentences:\t611\n",
      "Token size:\t14876\n",
      "Vocab size:\t3898\n",
      "Tagset size:\t116\n"
     ]
    }
   ],
   "source": [
    "# Read training data for each folder\n",
    "print(f\"\\nReading {tagged_data_file} ...\", end='')\n",
    "data = read_data(tagged_data_file)\n",
    "vocabs, tagset, token_size = get_vocab_tagset(data)\n",
    "tagset = set(t for t in tagset if t) #Just taking care of some null string in tagset\n",
    "\n",
    "#Uncomment below for data statistics\n",
    "print(f\"\\nSentences:\\t{len(data)}\\nToken size:\\t{token_size}\\nVocab size:\\t{len(vocabs)}\\nTagset size:\\t{len(tagset)}\")\n",
    "\n",
    "# Shuffle and split data\n",
    "random.seed(7)\n",
    "random.shuffle(data)\n",
    "test_size = 0.1 #90% of data for training; 10% of data for testing\n",
    "train_set, test_set = data[:-int(len(data)*test_size)], data[-int(len(data)*test_size):]\n",
    "\n",
    "EMBEDDING_DIM = 100\n",
    "HIDDEN_DIM = 2\n",
    "word_to_idx, idx_to_word = to_index(list(vocabs))\n",
    "tag_to_idx, idx_to_tag = to_index(list(tagset))"
   ]
  },
  {
   "cell_type": "markdown",
   "metadata": {
    "colab_type": "text",
    "id": "QY9mjHlvo9fJ"
   },
   "source": [
    "### Step 4: Creating the model"
   ]
  },
  {
   "cell_type": "code",
   "execution_count": 4,
   "metadata": {
    "colab": {},
    "colab_type": "code",
    "collapsed": true,
    "id": "c7dQF3Hxo-0l"
   },
   "outputs": [],
   "source": [
    "class Tagger(nn.Module):\n",
    "    def __init__(self, embedding_dim, hidden_dim, vocab_size, tagset_size):\n",
    "        super(Tagger, self).__init__()\n",
    "        self.hidden_dim = hidden_dim\n",
    "        self.word_embeddings = nn.Embedding(vocab_size, embedding_dim)\n",
    "\n",
    "        # The LSTM takes word embeddings as inputs, and outputs hidden states\n",
    "        # with dimensionality hidden_dim.\n",
    "        self.lstm = nn.LSTM(embedding_dim, hidden_dim)\n",
    "\n",
    "        # The linear layer that maps from hidden state space to tag space\n",
    "        self.hidden2tag = nn.Linear(hidden_dim, tagset_size)\n",
    "\n",
    "    def forward(self, sentence):\n",
    "        embeds = self.word_embeddings(sentence)\n",
    "        lstm_out, _ = self.lstm(embeds.view(len(sentence), 1, -1))\n",
    "        tag_space = self.hidden2tag(lstm_out.view(len(sentence), -1))\n",
    "        tag_scores = F.log_softmax(tag_space, dim=1)\n",
    "        return tag_scores"
   ]
  },
  {
   "cell_type": "markdown",
   "metadata": {
    "colab_type": "text",
    "id": "lC0BYXR_pIOT"
   },
   "source": [
    "### Step 5: Training the model"
   ]
  },
  {
   "cell_type": "code",
   "execution_count": 5,
   "metadata": {
    "colab": {
     "base_uri": "https://localhost:8080/",
     "height": 918
    },
    "colab_type": "code",
    "id": "a_C_BhiYpJQ2",
    "outputId": "1e7e8da2-5727-43cc-9ef5-e29859e56226"
   },
   "outputs": [
    {
     "name": "stdout",
     "output_type": "stream",
     "text": [
      "                  \tACC\tPRE\tREC\tF1\n",
      "[.........] Epoch 000: 37.90\t0.92\t2.12\t1.28\n",
      "[.........] Epoch 010: 41.18\t2.02\t2.63\t1.96\n",
      "[.........] Epoch 020: 42.78\t2.58\t2.98\t2.43\n",
      "[.........] Epoch 030: 42.85\t2.49\t2.98\t2.42\n",
      "[.........] Epoch 040: 42.98\t2.53\t3.01\t2.46\n",
      "[.........] Epoch 050: 42.85\t2.43\t2.98\t2.42\n",
      "[.........] Epoch 060: 42.98\t2.46\t3.00\t2.45\n",
      "[.........] Epoch 070: 42.91\t2.45\t2.99\t2.44\n",
      "[.........] Epoch 080: 43.58\t3.21\t3.12\t2.63\n",
      "[.........] Epoch 090: 44.18\t2.71\t3.20\t2.66\n",
      "[.........] Epoch 100: 45.12\t2.86\t3.37\t2.82\n",
      "[.........] Epoch 110: 45.32\t2.93\t3.39\t2.84\n",
      "[.........] Epoch 120: 45.45\t2.94\t3.44\t2.88\n",
      "[.........] Epoch 130: 45.52\t2.96\t3.45\t2.90\n",
      "[.........] Epoch 140: 45.45\t2.87\t3.44\t2.88\n",
      "[.........] Epoch 150: 45.92\t3.00\t3.63\t3.00\n",
      "[.........] Epoch 160: 45.72\t3.19\t4.10\t3.19\n",
      "[.........] Epoch 170: 45.79\t3.21\t4.10\t3.20\n",
      "[.........] Epoch 180: 45.99\t3.50\t4.16\t3.27\n",
      "[.........] Epoch 190: 46.06\t3.56\t4.22\t3.28\n",
      "[.........] Epoch 200: 46.32\t3.81\t4.30\t3.37\n",
      "[.........] Epoch 210: 46.39\t3.61\t4.29\t3.32\n",
      "[.........] Epoch 220: 46.19\t3.57\t4.26\t3.30\n",
      "[.........] Epoch 230: 46.46\t3.70\t4.30\t3.31\n",
      "[.........] Epoch 240: 46.06\t3.62\t4.24\t3.26\n",
      "[.........] Epoch 250: 46.32\t3.72\t4.29\t3.36\n",
      "[.........] Epoch 260: 45.99\t3.67\t4.24\t3.28\n",
      "[.........] Epoch 270: 47.06\t3.71\t4.40\t3.44\n",
      "[.........] Epoch 280: 46.72\t4.00\t4.38\t3.47\n",
      "[.........] Epoch 290: 46.72\t3.98\t4.38\t3.46\n",
      "[.........] Epoch 300: 46.52\t3.90\t4.36\t3.45\n",
      "[.........] Epoch 310: 46.66\t3.85\t4.38\t3.46\n",
      "[.........] Epoch 320: 46.59\t3.96\t4.37\t3.44\n",
      "[.........] Epoch 330: 46.59\t3.75\t4.37\t3.45\n",
      "[.........] Epoch 340: 46.46\t3.92\t4.37\t3.50\n",
      "[.........] Epoch 350: 46.52\t3.98\t4.39\t3.52\n",
      "[.........] Epoch 360: 46.79\t3.79\t4.42\t3.51\n",
      "[.........] Epoch 370: 47.06\t3.98\t4.47\t3.57\n",
      "[.........] Epoch 380: 47.19\t3.93\t4.53\t3.67\n",
      "[.........] Epoch 390: 47.13\t3.66\t4.47\t3.58\n",
      "[.........] Epoch 400: 47.86\t3.82\t4.67\t3.80\n",
      "[.........] Epoch 410: 47.66\t3.88\t4.59\t3.72\n",
      "[.........] Epoch 420: 47.99\t3.90\t4.67\t3.82\n",
      "[.........] Epoch 430: 48.06\t3.94\t4.69\t3.82\n",
      "[.........] Epoch 440: 47.66\t3.88\t4.66\t3.80\n",
      "[.........] Epoch 450: 47.33\t3.80\t4.54\t3.68\n",
      "[.........] Epoch 460: 47.39\t3.85\t4.54\t3.64\n",
      "[.........] Epoch 470: 47.86\t3.69\t4.60\t3.70\n",
      "[.........] Epoch 480: 47.26\t3.72\t4.48\t3.64\n",
      "[.........] Epoch 490: 47.99\t3.84\t4.62\t3.76\n",
      "[.........] Epoch 499: 47.86\t3.75\t4.61\t3.72\n",
      "Done! Runtime: 3379.94 secs\n"
     ]
    }
   ],
   "source": [
    "model = Tagger(EMBEDDING_DIM, HIDDEN_DIM, len(word_to_idx), len(tag_to_idx))\n",
    "loss_function = nn.NLLLoss()\n",
    "optimizer = optim.SGD(model.parameters(), lr=0.1)\n",
    "\n",
    "start = timer()\n",
    "\n",
    "NUM_EPOCHS = 500\n",
    "result_point = 50\n",
    "\n",
    "ACC, PRE, REC, F1 = [],[],[],[]\n",
    "print(f\"{' '*(NUM_EPOCHS//result_point+8)}\\tACC\\tPRE\\tREC\\tF1\\n[{'.'*max((NUM_EPOCHS//result_point)-1,1)}\", end='')\n",
    "with warnings.catch_warnings():\n",
    "    warnings.simplefilter(\"ignore\")\n",
    "    for epoch in range(NUM_EPOCHS):  # again, normally you would NOT do 300 epochs, it is toy data\n",
    "        for sentence, tags in train_set:\n",
    "            # Step 1. Remember that Pytorch accumulates gradients.\n",
    "            # We need to clear them out before each instance\n",
    "            model.zero_grad()\n",
    "\n",
    "            # Step 2. Get our inputs ready for the network, that is, turn them into\n",
    "            # Tensors of word indices.\n",
    "            sentence_in = prepare_sequence(sentence, word_to_idx)\n",
    "            targets = prepare_sequence(tags, tag_to_idx)\n",
    "\n",
    "            # Step 3. Run our forward pass.\n",
    "            tag_scores = model(sentence_in)\n",
    "\n",
    "            # Step 4. Compute the loss, gradients, and update the parameters by\n",
    "            #  calling optimizer.step()\n",
    "            loss = loss_function(tag_scores, targets)\n",
    "            \n",
    "            loss.backward()\n",
    "            optimizer.step()\n",
    "\n",
    "        y_gold, y_pred = [],[]\n",
    "        with torch.no_grad():\n",
    "            for sent in test_set:\n",
    "                y_gold.extend(sent[1])\n",
    "                inputs = prepare_sequence(sent[0], word_to_idx)\n",
    "                tag_scores = model(inputs)\n",
    "                y_pred.extend(score_to_tag(tag_scores, idx_to_tag))\n",
    "\n",
    "            acc=accuracy_score(y_gold, y_pred)*100\n",
    "            pre=precision_score(y_gold, y_pred, average='macro')*100\n",
    "            rec=recall_score(y_gold, y_pred, average='macro')*100\n",
    "            f1=f1_score(y_gold, y_pred, average='macro')*100\n",
    "            ACC.append(acc)\n",
    "            PRE.append(pre)\n",
    "            REC.append(rec)\n",
    "            F1.append(f1)\n",
    "\n",
    "            if epoch%max(NUM_EPOCHS//result_point,1)==0:\n",
    "                print(f\"] Epoch {epoch:003d}: {acc:.2f}\",end='\\t')\n",
    "                print(f\"{pre:.2f}\",end='\\t')\n",
    "                print(f\"{rec:.2f}\",end='\\t')\n",
    "                print(f\"{f1:.2f}\\n[\", end='')\n",
    "            elif epoch == NUM_EPOCHS-1:\n",
    "                print(f\".] Epoch {epoch:003d}: {acc:.2f}\\t{pre:.2f}\\t{rec:.2f}\\t{f1:.2f}\")\n",
    "            else:\n",
    "                print('.',end='')\n",
    "    \n",
    "print(f'Done! Runtime: {timer() - start:.2f} secs')"
   ]
  },
  {
   "cell_type": "markdown",
   "metadata": {},
   "source": [
    "### Testing the Model"
   ]
  },
  {
   "cell_type": "code",
   "execution_count": 6,
   "metadata": {},
   "outputs": [
    {
     "name": "stdout",
     "output_type": "stream",
     "text": [
      "Os gwelwch yn dda, nodwch y testun ar gyfer tagio POS .\n",
      "Os/Z5 gwelwch/X2 yn/Z5 dda,/Q1 nodwch/A1 y/Z5 testun/Q2 ar/Z5 gyfer/M6 tagio/N1 POS/M6 ./PUNCT\n",
      "--------------------\n",
      "Eisiau tagio mwy o destun ?\n",
      "Eisiau/X2 tagio/Z2 mwy/N3 o/Z5 destun/X2 ?/PUNCT\n",
      "--------------------\n",
      "Diolch am roi cynnig ar ein demo !\n",
      "Diolch/Q2 am/Z5 roi/A1 cynnig/L1 ar/Z5 ein/Z8 demo/N1 !/Z99\n",
      "--------------------\n"
     ]
    }
   ],
   "source": [
    "test_sentences = [\n",
    "    \"Os gwelwch yn dda, nodwch y testun ar gyfer tagio POS .\",\n",
    "    \"Eisiau tagio mwy o destun ?\",\n",
    "    \"Diolch am roi cynnig ar ein demo !\"\n",
    "    ]\n",
    "\n",
    "with torch.no_grad():\n",
    "    for sent in test_sentences:\n",
    "        print(sent)\n",
    "        inputs = prepare_sequence(sent.split(), word_to_idx)\n",
    "        pred_tags = score_to_tag(model(inputs), idx_to_tag)\n",
    "        print(\" \".join(f\"{s}/{t}\" for s,t in zip(sent.split(),pred_tags)))\n",
    "        print('-'*20)"
   ]
  },
  {
   "cell_type": "markdown",
   "metadata": {},
   "source": [
    "### Plotting the metrics"
   ]
  },
  {
   "cell_type": "code",
   "execution_count": 7,
   "metadata": {
    "colab": {
     "base_uri": "https://localhost:8080/",
     "height": 269
    },
    "colab_type": "code",
    "id": "iHBppMcApfUt",
    "outputId": "c3c5a3da-0b35-498b-8509-254528dc6315"
   },
   "outputs": [
    {
     "data": {
      "image/png": "[encoded data removed]",
      "text/plain": [
       "<Figure size 432x288 with 1 Axes>"
      ]
     },
     "metadata": {},
     "output_type": "display_data"
    }
   ],
   "source": [
    "import numpy as np\n",
    "import matplotlib.pyplot as plt\n",
    "# plt.plot(ACC)\n",
    "plt.plot(PRE)\n",
    "plt.plot(REC)\n",
    "plt.plot(F1)\n",
    "plt.show()"
   ]
  },
  {
   "cell_type": "markdown",
   "metadata": {},
   "source": [
    "### Save the model"
   ]
  },
  {
   "cell_type": "code",
   "execution_count": 8,
   "metadata": {
    "collapsed": true
   },
   "outputs": [],
   "source": [
    "DIR, prefix ='tagger', 'sem'\n",
    "\n",
    "#save model\n",
    "torch.save(model.state_dict(), f'{DIR}/{prefix}_model.pth')\n",
    "\n",
    "#dump dictionaries\n",
    "dicts = word_to_idx, idx_to_word, tag_to_idx, idx_to_tag\n",
    "pickle.dump(dicts,open(f'{DIR}/{prefix}_dicts.pkl', 'wb'), protocol=2)\n",
    "\n",
    "# new_model = Tagger(EMBEDDING_DIM, HIDDEN_DIM, len(word_to_idx), len(tag_to_idx))\n",
    "# new_model.load_state_dict(torch.load('model/model.pth'))\n",
    "# model.eval()"
   ]
  },
  {
   "cell_type": "code",
   "execution_count": 9,
   "metadata": {},
   "outputs": [
    {
     "data": {
      "text/plain": [
       "'example.tagged'"
      ]
     },
     "execution_count": 9,
     "metadata": {},
     "output_type": "execute_result"
    }
   ],
   "source": [
    "'example.txt'[:-3]+'tagged'"
   ]
  }
 ],
 "metadata": {
  "accelerator": "GPU",
  "colab": {
   "name": "lstm_tagger_pytorch",
   "provenance": [],
   "toc_visible": true,
   "version": "0.3.2"
  },
  "kernelspec": {
   "display_name": "Python 3",
   "language": "python",
   "name": "python3"
  },
  "language_info": {
   "codemirror_mode": {
    "name": "ipython",
    "version": 3
   },
   "file_extension": ".py",
   "mimetype": "text/x-python",
   "name": "python",
   "nbconvert_exporter": "python",
   "pygments_lexer": "ipython3",
   "version": "3.6.2"
  }
 },
 "nbformat": 4,
 "nbformat_minor": 1
}
