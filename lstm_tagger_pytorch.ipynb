{
  "nbformat": 4,
  "nbformat_minor": 0,
  "metadata": {
    "colab": {
      "name": "lstm_tagger_pytorch",
      "version": "0.3.2",
      "provenance": [],
      "toc_visible": true
    },
    "kernelspec": {
      "name": "python3",
      "display_name": "Python 3"
    },
    "accelerator": "GPU"
  },
  "cells": [
    {
      "cell_type": "markdown",
      "metadata": {
        "id": "N76UvzJAnLf2",
        "colab_type": "text"
      },
      "source": [
        "## LSTM Part-of-Speech Tagger\n",
        "### Step 1: Importing the <code>torch</code>  and other libraries"
      ]
    },
    {
      "cell_type": "code",
      "metadata": {
        "id": "X7I2MBq1m_9Y",
        "colab_type": "code",
        "colab": {}
      },
      "source": [
        "#torch stuff\n",
        "import torch\n",
        "import torch.nn as nn\n",
        "import torch.nn.functional as F\n",
        "import torch.optim as optim\n",
        "torch.manual_seed(1)\n",
        "\n",
        "#other stuff\n",
        "import numpy as np\n",
        "import glob, os, random\n",
        "from sklearn.metrics import accuracy_score, precision_score, recall_score, f1_score, confusion_matrix\n",
        "import warnings\n",
        "from timeit import default_timer as timer"
      ],
      "execution_count": 0,
      "outputs": []
    },
    {
      "cell_type": "markdown",
      "metadata": {
        "id": "AbRGQ1qYnoI0",
        "colab_type": "text"
      },
      "source": [
        "### Step 2: Get the helper functions"
      ]
    },
    {
      "cell_type": "code",
      "metadata": {
        "id": "dhlxO4wbnnnW",
        "colab_type": "code",
        "colab": {}
      },
      "source": [
        "# Read the data file\n",
        "def read_data(filepath):\n",
        "    data = []\n",
        "    with open(filepath, 'r', encoding=\"utf8\") as f:\n",
        "        for line in f:\n",
        "            data.append(tuple(zip(*[wt.split('/') for wt in line.strip().split()])))\n",
        "    return data\n",
        "\n",
        "# Get vocabs and tagset\n",
        "def get_vocab_tagset(data):\n",
        "    token_size, vocabs, tagset = 0, set(), set()\n",
        "    for words, tags in data:\n",
        "        token_size += len(words)\n",
        "        vocabs.update(words)\n",
        "        tagset.update(tags)\n",
        "    return vocabs, tagset, token_size\n",
        "\n",
        "# convert the sequencies to indexes and tensors\n",
        "def prepare_sequence(seq, to_ix):\n",
        "    idxs = [to_ix[w] if w in to_ix else 0 for w in seq]\n",
        "    return torch.tensor(idxs, dtype=torch.long)\n",
        "\n",
        "# indexing list elements: use this for vocabs and tagset\n",
        "def to_index(aList):\n",
        "    elem_to_idx = {e:aList.index(e)+1 for e in aList}\n",
        "    elem_to_idx['Unknown'] = 0  \n",
        "    idx_to_elem = {i:e for e,i in elem_to_idx.items()}\n",
        "    return elem_to_idx, idx_to_elem\n",
        "\n",
        "# import numpy as np\n",
        "def score_to_tag(tag_scores, i_to_tag):\n",
        "    tagged=[]\n",
        "    for preds in tag_scores:\n",
        "        preds = list(np.array(preds))\n",
        "        idx = preds.index(max(preds))\n",
        "        tagged.append(f\"{i_to_tag[idx]}\")\n",
        "    return tagged\n",
        "\n",
        "tagged_data_file = \"cy_pos_coarse_tagged\"\n",
        "# tagged_data_file = \"cy_sem_coarse_tagged\"\n",
        "# tagged_data_file = \"cy_both_coarse_tagged\"\n",
        "\n"
      ],
      "execution_count": 0,
      "outputs": []
    },
    {
      "cell_type": "markdown",
      "metadata": {
        "id": "apL3kcRTopW_",
        "colab_type": "text"
      },
      "source": [
        "### Step 3: Preparing the data"
      ]
    },
    {
      "cell_type": "code",
      "metadata": {
        "id": "L8R1Q3bCnwaM",
        "colab_type": "code",
        "colab": {
          "base_uri": "https://localhost:8080/",
          "height": 51
        },
        "outputId": "a7a289a9-2529-4984-da31-cba7afe110e7"
      },
      "source": [
        "# Read training data for each folder\n",
        "print(f\"\\nReading {tagged_data_file} ...\", end='')\n",
        "data = read_data(tagged_data_file)\n",
        "vocabs, tagset, token_size = get_vocab_tagset(data)\n",
        "tagset = set(t for t in tagset if t) #Just taking care of some null string in tagset\n",
        "\n",
        "# #Uncomment below for data statistics\n",
        "# print(f\"\\nSentences:\\t{len(training_data)}\\nToken size:\\t{token_size}\\nVocab size:\\t{len(vocabs)}\\nTagset size:\\t{len(tagset)}\")\n",
        "\n",
        "# Shuffle and split data\n",
        "random.seed(7)\n",
        "random.shuffle(data)\n",
        "test_size = 0.1 #90% of data for training; 10% of data for testing\n",
        "train_set, test_set = data[:-int(len(data)*test_size)], data[-int(len(data)*test_size):]\n",
        "\n",
        "EMBEDDING_DIM = 100\n",
        "HIDDEN_DIM = 5    \n",
        "word_to_idx, idx_to_word = to_index(list(vocabs))\n",
        "tag_to_idx, idx_to_tag = to_index(list(tagset))"
      ],
      "execution_count": 57,
      "outputs": [
        {
          "output_type": "stream",
          "text": [
            "\n",
            "Reading cy_pos_coarse_tagged ..."
          ],
          "name": "stdout"
        }
      ]
    },
    {
      "cell_type": "markdown",
      "metadata": {
        "id": "QY9mjHlvo9fJ",
        "colab_type": "text"
      },
      "source": [
        "### Step 4: Creating the model"
      ]
    },
    {
      "cell_type": "code",
      "metadata": {
        "id": "c7dQF3Hxo-0l",
        "colab_type": "code",
        "colab": {}
      },
      "source": [
        "class Tagger(nn.Module):\n",
        "    def __init__(self, embedding_dim, hidden_dim, vocab_size, tagset_size):\n",
        "        super(Tagger, self).__init__()\n",
        "        self.hidden_dim = hidden_dim\n",
        "        self.word_embeddings = nn.Embedding(vocab_size, embedding_dim)\n",
        "\n",
        "        # The LSTM takes word embeddings as inputs, and outputs hidden states\n",
        "        # with dimensionality hidden_dim.\n",
        "        self.lstm = nn.LSTM(embedding_dim, hidden_dim)\n",
        "\n",
        "        # The linear layer that maps from hidden state space to tag space\n",
        "        self.hidden2tag = nn.Linear(hidden_dim, tagset_size)\n",
        "\n",
        "    def forward(self, sentence):\n",
        "        embeds = self.word_embeddings(sentence)\n",
        "        lstm_out, _ = self.lstm(embeds.view(len(sentence), 1, -1))\n",
        "        tag_space = self.hidden2tag(lstm_out.view(len(sentence), -1))\n",
        "        tag_scores = F.log_softmax(tag_space, dim=1)\n",
        "        return tag_scores"
      ],
      "execution_count": 0,
      "outputs": []
    },
    {
      "cell_type": "markdown",
      "metadata": {
        "id": "lC0BYXR_pIOT",
        "colab_type": "text"
      },
      "source": [
        "### Step 5: Training the model"
      ]
    },
    {
      "cell_type": "code",
      "metadata": {
        "id": "a_C_BhiYpJQ2",
        "colab_type": "code",
        "colab": {
          "base_uri": "https://localhost:8080/",
          "height": 918
        },
        "outputId": "1e7e8da2-5727-43cc-9ef5-e29859e56226"
      },
      "source": [
        "model = Tagger(EMBEDDING_DIM, HIDDEN_DIM, len(word_to_idx), len(tag_to_idx))\n",
        "loss_function = nn.NLLLoss()\n",
        "optimizer = optim.SGD(model.parameters(), lr=0.1)\n",
        "\n",
        "start = timer()\n",
        "\n",
        "NUM_EPOCHS = 500\n",
        "result_point = 50\n",
        "\n",
        "ACC, PRE, REC, F1 = [],[],[],[]\n",
        "print(f\"{' '*(NUM_EPOCHS//result_point+8)}\\tACC\\tPRE\\tREC\\tF1\\n[{'.'*max((NUM_EPOCHS//result_point)-1,1)}\", end='')\n",
        "with warnings.catch_warnings():\n",
        "    warnings.simplefilter(\"ignore\")\n",
        "    for epoch in range(NUM_EPOCHS):  # again, normally you would NOT do 300 epochs, it is toy data\n",
        "        for sentence, tags in train_set:\n",
        "            # Step 1. Remember that Pytorch accumulates gradients.\n",
        "            # We need to clear them out before each instance\n",
        "            model.zero_grad()\n",
        "\n",
        "            # Step 2. Get our inputs ready for the network, that is, turn them into\n",
        "            # Tensors of word indices.\n",
        "            sentence_in = prepare_sequence(sentence, word_to_idx)\n",
        "            targets = prepare_sequence(tags, tag_to_idx)\n",
        "\n",
        "            # Step 3. Run our forward pass.\n",
        "            tag_scores = model(sentence_in)\n",
        "\n",
        "            # Step 4. Compute the loss, gradients, and update the parameters by\n",
        "            #  calling optimizer.step()\n",
        "            loss = loss_function(tag_scores, targets)\n",
        "            \n",
        "            \n",
        "            loss.backward()\n",
        "            optimizer.step()\n",
        "\n",
        "        y_gold, y_pred = [],[]\n",
        "        with torch.no_grad():\n",
        "            for sent in test_set:\n",
        "                y_gold.extend(sent[1])\n",
        "                inputs = prepare_sequence(sent[0], word_to_idx)\n",
        "                tag_scores = model(inputs)\n",
        "                y_pred.extend(score_to_tag(tag_scores, idx_to_tag))\n",
        "\n",
        "            acc=accuracy_score(y_gold, y_pred)*100\n",
        "            pre=precision_score(y_gold, y_pred, average='macro')*100\n",
        "            rec=recall_score(y_gold, y_pred, average='macro')*100\n",
        "            f1=f1_score(y_gold, y_pred, average='macro')*100\n",
        "\n",
        "            ACC.append(acc)\n",
        "            PRE.append(pre)\n",
        "            REC.append(rec)\n",
        "            F1.append(f1)\n",
        "#             _gold = prepare_sequence(y_gold, tag_to_idx)\n",
        "#             _pred = prepare_sequence(y_pred, tag_to_idx)\n",
        "#             _loss = loss_function(_gold, _pred)\n",
        "            \n",
        "            if epoch%max(NUM_EPOCHS//result_point,1)==0:\n",
        "                print(f\"] Epoch {epoch:003d}: {acc:.2f}\",end='\\t')\n",
        "                print(f\"{pre:.2f}\",end='\\t')\n",
        "                print(f\"{rec:.2f}\",end='\\t')\n",
        "                print(f\"{f1:.2f}\\n[\", end='')\n",
        "            elif epoch == NUM_EPOCHS-1:\n",
        "                print(f\".] Epoch {epoch:003d}: {acc:.2f}\\t{pre:.2f}\\t{rec:.2f}\\t{f1:.2f}\")\n",
        "            else:\n",
        "                print('.',end='')\n",
        "                    \n",
        "print(f'Done! Total time: {timer() - start:.2f} secs')\n",
        "\n",
        "#plot y_gold, y_pred for accuracy, precision and F1"
      ],
      "execution_count": 91,
      "outputs": [
        {
          "output_type": "stream",
          "text": [
            "                  \tACC\tPRE\tREC\tF1\n",
            "[.........] Epoch 000: 44.65\t18.42\t21.68\t18.38\n",
            "[.........] Epoch 010: 60.70\t38.28\t35.82\t35.88\n",
            "[.........] Epoch 020: 67.11\t41.34\t42.25\t41.33\n",
            "[.........] Epoch 030: 70.59\t53.92\t47.99\t48.17\n",
            "[.........] Epoch 040: 71.86\t53.05\t50.28\t50.59\n",
            "[.........] Epoch 050: 72.39\t54.36\t50.82\t51.10\n",
            "[.........] Epoch 060: 72.66\t53.71\t50.89\t51.14\n",
            "[.........] Epoch 070: 73.53\t54.07\t51.45\t51.76\n",
            "[.........] Epoch 080: 74.73\t55.73\t53.64\t54.12\n",
            "[.........] Epoch 090: 74.67\t56.39\t55.62\t55.49\n",
            "[.........] Epoch 100: 74.87\t56.00\t55.99\t55.60\n",
            "[.........] Epoch 110: 75.47\t57.31\t56.89\t56.74\n",
            "[.........] Epoch 120: 74.06\t54.40\t53.14\t53.20\n",
            "[.........] Epoch 130: 74.73\t57.42\t56.59\t56.71\n",
            "[.........] Epoch 140: 75.33\t57.94\t57.29\t57.29\n",
            "[.........] Epoch 150: 74.87\t57.42\t56.51\t56.58\n",
            "[.........] Epoch 160: 74.80\t55.97\t56.73\t56.07\n",
            "[.........] Epoch 170: 75.47\t56.52\t56.96\t56.50\n",
            "[.........] Epoch 180: 75.33\t56.35\t56.70\t56.36\n",
            "[.........] Epoch 190: 75.20\t55.50\t56.67\t55.78\n",
            "[.........] Epoch 200: 75.74\t57.83\t57.17\t57.24\n",
            "[.........] Epoch 210: 75.27\t56.45\t56.70\t56.42\n",
            "[.........] Epoch 220: 75.33\t57.17\t58.97\t57.81\n",
            "[.........] Epoch 230: 76.00\t59.20\t59.35\t59.08\n",
            "[.........] Epoch 240: 76.07\t58.29\t57.15\t57.44\n",
            "[.........] Epoch 250: 76.07\t59.11\t59.42\t59.09\n",
            "[.........] Epoch 260: 76.07\t59.35\t59.39\t59.17\n",
            "[.........] Epoch 270: 75.80\t59.03\t59.24\t58.95\n",
            "[.........] Epoch 280: 75.67\t57.70\t59.13\t58.17\n",
            "[.........] Epoch 290: 75.87\t58.00\t59.34\t58.41\n",
            "[.........] Epoch 300: 75.80\t58.03\t59.60\t58.58\n",
            "[.........] Epoch 310: 75.53\t58.11\t59.30\t58.48\n",
            "[.........] Epoch 320: 75.74\t58.12\t59.49\t58.56\n",
            "[.........] Epoch 330: 75.67\t57.29\t59.35\t57.95\n",
            "[.........] Epoch 340: 75.94\t57.36\t59.36\t57.99\n",
            "[.........] Epoch 350: 75.60\t56.93\t59.29\t57.72\n",
            "[.........] Epoch 360: 75.27\t57.29\t58.76\t57.73\n",
            "[.........] Epoch 370: 75.40\t57.08\t59.10\t57.67\n",
            "[.........] Epoch 380: 75.40\t57.58\t59.12\t58.09\n",
            "[.........] Epoch 390: 75.47\t56.89\t59.34\t57.75\n",
            "[.........] Epoch 400: 76.00\t58.20\t59.81\t58.78\n",
            "[.........] Epoch 410: 75.94\t57.98\t59.59\t58.56\n",
            "[.........] Epoch 420: 75.94\t57.00\t59.63\t57.99\n",
            "[.........] Epoch 430: 76.07\t57.23\t59.94\t58.04\n",
            "[.........] Epoch 440: 76.07\t56.58\t59.84\t57.56\n",
            "[.........] Epoch 450: 76.14\t56.22\t59.91\t57.40\n",
            "[.........] Epoch 460: 76.27\t57.05\t59.96\t57.97\n",
            "[.........] Epoch 470: 76.40\t58.02\t62.42\t59.11\n",
            "[.........] Epoch 480: 76.40\t57.85\t62.51\t59.04\n",
            "[.........] Epoch 490: 76.07\t57.34\t62.06\t58.58\n",
            "[.........] Epoch 499: 76.27\t57.61\t62.11\t58.91\n",
            "Done! Total time: 1656.97 secs\n"
          ],
          "name": "stdout"
        }
      ]
    },
    {
      "cell_type": "code",
      "metadata": {
        "id": "iHBppMcApfUt",
        "colab_type": "code",
        "colab": {
          "base_uri": "https://localhost:8080/",
          "height": 269
        },
        "outputId": "c3c5a3da-0b35-498b-8509-254528dc6315"
      },
      "source": [
        "import numpy as np\n",
        "import matplotlib.pyplot as plt\n",
        "# plt.plot(ACC)\n",
        "plt.plot(PRE)\n",
        "plt.plot(REC)\n",
        "plt.plot(F1)\n",
        "plt.show()"
      ],
      "execution_count": 94,
      "outputs": [
        {
          "output_type": "display_data",
          "data": {
            "image/png": "[encoded data removed]",
            "text/plain": [
              "<Figure size 432x288 with 1 Axes>"
            ]
          },
          "metadata": {
            "tags": []
          }
        }
      ]
    }
  ]
}