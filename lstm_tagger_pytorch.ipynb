{
 "cells": [
  {
   "cell_type": "markdown",
   "metadata": {},
   "source": [
    "## LSTM Part-of-Speech Tagger\n",
    "### Importing the <code>torch</code> libraries"
   ]
  },
  {
   "cell_type": "code",
   "execution_count": 61,
   "metadata": {},
   "outputs": [
    {
     "data": {
      "text/plain": [
       "<torch._C.Generator at 0x7f85775170b0>"
      ]
     },
     "execution_count": 61,
     "metadata": {},
     "output_type": "execute_result"
    }
   ],
   "source": [
    "import torch\n",
    "import torch.nn as nn\n",
    "import torch.nn.functional as F\n",
    "import torch.optim as optim\n",
    "\n",
    "import numpy as np\n",
    "import glob, os\n",
    "\n",
    "torch.manual_seed(1)"
   ]
  },
  {
   "cell_type": "markdown",
   "metadata": {},
   "source": [
    "### Helper functions..."
   ]
  },
  {
   "cell_type": "code",
   "execution_count": 224,
   "metadata": {},
   "outputs": [],
   "source": [
    "# Read the data file\n",
    "def read_data(filepath):\n",
    "    data = []\n",
    "    with open(filepath, 'r', encoding=\"utf8\") as f:\n",
    "        for line in f:\n",
    "            data.append(tuple(zip(*[wt.split('/') for wt in line.strip().split()])))\n",
    "    return data\n",
    "\n",
    "# Get vocabs and tagset\n",
    "def get_vocab_tagset(data):\n",
    "    token_size, vocabs, tagset = 0, set(), set()\n",
    "    for words, tags in data:\n",
    "        token_size += len(words)\n",
    "        vocabs.update(words)\n",
    "        tagset.update(tags)\n",
    "    return vocabs, tagset, token_size\n",
    "\n",
    "# convert the sequencies to indexes and tensors\n",
    "def prepare_sequence(seq, to_ix):\n",
    "    idxs = [to_ix[w] for w in seq]\n",
    "    return torch.tensor(idxs, dtype=torch.long)\n",
    "\n",
    "def to_index(aList):\n",
    "    elem_to_idx = {e:aLest.index(i) for e in aLest}\n",
    "    idx_to_elem = {i:e for e,i in elem_to_idx.items()}\n",
    "    return elem_to_idx, idx_to_elem"
   ]
  },
  {
   "cell_type": "markdown",
   "metadata": {},
   "source": [
    "### Initialisations"
   ]
  },
  {
   "cell_type": "code",
   "execution_count": 254,
   "metadata": {},
   "outputs": [
    {
     "name": "stdout",
     "output_type": "stream",
     "text": [
      "\n",
      "Reading all_corpora/welsh/cy_pos_coarse_tagged ...\n",
      "Sentences:\t611\n",
      "Token size:\t14875\n",
      "Vocab size:\t3897\n",
      "Tagset size:\t15\n"
     ]
    }
   ],
   "source": [
    "tagged_files = [\n",
    "#         \"igbo/ITC5.coarse*\", \"igbo/fiction.coarse*\", #coarse\n",
    "#         \"igbo/ITC5.fine*\", \"igbo/fiction.fine*\", #fine\n",
    "        \"welsh/*pos_coarse*\",\n",
    "#         \"welsh/*sem_coarse*\", \n",
    "#         \"welsh/*both_fine*\", \"welsh/*both_coarse*\",\n",
    "#         \"english/corpus.small\"\n",
    "#         \"swedish/*coarse*\"\n",
    "       ]\n",
    "for file in tagged_files: \n",
    "    training_data = []\n",
    "    for file in glob.glob(os.path.join('all_corpora', file)):\n",
    "        print(f\"\\nReading {file} ...\", end='')\n",
    "        training_data.extend(read_data(file))\n",
    "        if len(training_data) >= 1000:\n",
    "            break\n",
    "    vocabs, tagset, token_size = get_vocab_tagset(training_data)\n",
    "    print(f\"\\nSentences:\\t{len(training_data)}\\nToken size:\\t{token_size}\\nVocab size:\\t{len(vocabs)}\\nTagset size:\\t{len(tagset)}\")\n",
    "\n",
    "word_to_idx, idx_to_word = to_index(list(vocabs))\n",
    "tag_to_idx, idx_to_tag = to_index(list(tagset))"
   ]
  },
  {
   "cell_type": "code",
   "execution_count": 252,
   "metadata": {},
   "outputs": [
    {
     "data": {
      "text/plain": [
       "{'Adf',\n",
       " 'Ans',\n",
       " 'Ar',\n",
       " 'Atd',\n",
       " 'B',\n",
       " 'Cys',\n",
       " 'E',\n",
       " 'Ebych',\n",
       " 'Gw',\n",
       " 'Rha',\n",
       " 'Rhi',\n",
       " 'U',\n",
       " 'YFB',\n",
       " 'pron',\n",
       " 'unk'}"
      ]
     },
     "execution_count": 252,
     "metadata": {},
     "output_type": "execute_result"
    }
   ],
   "source": [
    "EMBEDDING_DIM = 6\n",
    "HIDDEN_DIM = 6"
   ]
  },
  {
   "cell_type": "code",
   "execution_count": null,
   "metadata": {},
   "outputs": [],
   "source": [
    "\n",
    "# training_data = [\n",
    "#     (\"The dog ate the apple\".split(), [\"DET\", \"NN\", \"V\", \"DET\", \"NN\"]),\n",
    "#     (\"Everybody read that book\".split(), [\"NN\", \"V\", \"DET\", \"NN\"])\n",
    "# ]\n",
    "\n",
    "# These will usually be more like 32 or 64 dimensional.\n",
    "# We will keep them small, so we can see how the weights change as we train.\n"
   ]
  },
  {
   "cell_type": "code",
   "execution_count": 11,
   "metadata": {
    "collapsed": true
   },
   "outputs": [],
   "source": [
    "class LSTMTagger(nn.Module):\n",
    "    def __init__(self, embedding_dim, hidden_dim, vocab_size, tagset_size):\n",
    "        super(LSTMTagger, self).__init__()\n",
    "        self.hidden_dim = hidden_dim\n",
    "\n",
    "        self.word_embeddings = nn.Embedding(vocab_size, embedding_dim)\n",
    "\n",
    "        # The LSTM takes word embeddings as inputs, and outputs hidden states\n",
    "        # with dimensionality hidden_dim.\n",
    "        self.lstm = nn.LSTM(embedding_dim, hidden_dim)\n",
    "\n",
    "        # The linear layer that maps from hidden state space to tag space\n",
    "        self.hidden2tag = nn.Linear(hidden_dim, tagset_size)\n",
    "\n",
    "    def forward(self, sentence):\n",
    "        embeds = self.word_embeddings(sentence)\n",
    "        lstm_out, _ = self.lstm(embeds.view(len(sentence), 1, -1))\n",
    "        tag_space = self.hidden2tag(lstm_out.view(len(sentence), -1))\n",
    "        tag_scores = F.log_softmax(tag_space, dim=1)\n",
    "        return tag_scores"
   ]
  },
  {
   "cell_type": "code",
   "execution_count": 15,
   "metadata": {},
   "outputs": [
    {
     "name": "stdout",
     "output_type": "stream",
     "text": [
      "Scores before training:\n",
      "tensor([[-1.1153, -0.8478, -1.4113],\n",
      "        [-1.1129, -0.8852, -1.3518],\n",
      "        [-1.0766, -0.9060, -1.3660],\n",
      "        [-1.1870, -0.8987, -1.2456],\n",
      "        [-1.1577, -0.8997, -1.2762]])\n",
      "\n",
      "Scores before training:\n",
      "tensor([[-0.0307, -3.5960, -5.8840],\n",
      "        [-4.1046, -0.0832, -2.7595],\n",
      "        [-4.8994, -2.2309, -0.1220],\n",
      "        [-0.0534, -3.0170, -5.8000],\n",
      "        [-3.8753, -0.0462, -3.7117]])\n"
     ]
    }
   ],
   "source": [
    "model = LSTMTagger(EMBEDDING_DIM, HIDDEN_DIM, len(word_to_ix), len(tag_to_ix))\n",
    "loss_function = nn.NLLLoss()\n",
    "optimizer = optim.SGD(model.parameters(), lr=0.1)\n",
    "\n",
    "# See what the scores are before training\n",
    "# Note that element i,j of the output is the score for tag j for word i.\n",
    "# Here we don't need to train, so the code is wrapped in torch.no_grad()\n",
    "\n",
    "print(\"Scores before training:\")\n",
    "with torch.no_grad():\n",
    "    inputs = prepare_sequence(training_data[0][0], word_to_ix)\n",
    "    tag_scores = model(inputs)\n",
    "    print(tag_scores)\n",
    "\n",
    "for epoch in range(300):  # again, normally you would NOT do 300 epochs, it is toy data\n",
    "    for sentence, tags in training_data:\n",
    "        # Step 1. Remember that Pytorch accumulates gradients.\n",
    "        # We need to clear them out before each instance\n",
    "        model.zero_grad()\n",
    "\n",
    "        # Step 2. Get our inputs ready for the network, that is, turn them into\n",
    "        # Tensors of word indices.\n",
    "        sentence_in = prepare_sequence(sentence, word_to_ix)\n",
    "        targets = prepare_sequence(tags, tag_to_ix)\n",
    "\n",
    "        # Step 3. Run our forward pass.\n",
    "        tag_scores = model(sentence_in)\n",
    "\n",
    "        # Step 4. Compute the loss, gradients, and update the parameters by\n",
    "        #  calling optimizer.step()\n",
    "        loss = loss_function(tag_scores, targets)\n",
    "        loss.backward()\n",
    "        optimizer.step()\n",
    "\n",
    "# See what the scores are after training\n",
    "print(\"\\nScores after training:\")\n",
    "with torch.no_grad():\n",
    "    inputs = prepare_sequence(training_data[0][0], word_to_ix)\n",
    "    tag_scores = model(inputs)\n",
    "    # The sentence is \"the dog ate the apple\".  i,j corresponds to score for tag j\n",
    "    # for word i. The predicted tag is the maximum scoring tag.\n",
    "    # Here, we can see the predicted sequence below is 0 1 2 0 1\n",
    "    # since 0 is index of the maximum value of row 1,\n",
    "    # 1 is the index of maximum value of row 2, etc.\n",
    "    # Which is DET NOUN VERB DET NOUN, the correct sequence!\n",
    "    print(tag_scores)"
   ]
  },
  {
   "cell_type": "code",
   "execution_count": 78,
   "metadata": {},
   "outputs": [
    {
     "name": "stdout",
     "output_type": "stream",
     "text": [
      "The/DET dog/NN ate/V the/DET apple/NN "
     ]
    }
   ],
   "source": [
    "# import numpy as np\n",
    "for w, preds in list(zip(training_data[0][0], tag_scores)):\n",
    "    preds = list(np.array(preds))\n",
    "    idx = preds.index(max(preds))\n",
    "    print(f\"{w}/{ix_2_tag[idx]}\", end=\" \")"
   ]
  },
  {
   "cell_type": "code",
   "execution_count": 198,
   "metadata": {},
   "outputs": [],
   "source": [
    "with open('all_corpora/welsh/cy_both_coarse_tagged', 'w', encoding='utf8') as f1:\n",
    "    with open('all_corpora/welsh/cy_both_fine_tagged', 'r', encoding='utf8') as f2:\n",
    "        i=0\n",
    "        for line in f2:\n",
    "            words, tags = tuple(zip(*[wt.split('/') for wt in line.strip().split()]))\n",
    "            pos_tags = [tag.split('|')[0] for tag in tags]\n",
    "            sem_tags = [re.findall(r'[A-Za-z]+\\d*',tag.split('|')[1])[0] for tag in tags]\n",
    "            coarse_pos_sem = [\"|\".join(ps) for ps in zip(pos_tags,sem_tags)]\n",
    "            word_coarse_pos_sem = [f\"{w}/{t}\" for w,t in zip(words, coarse_pos_sem)]\n",
    "#             print(f\"{words}\\n\\n{tags}\\n\\n{both}\\n\\n{' '.join(word_both_tags)}\")\n",
    "            i+=1\n",
    "#             print(f\"{i}\\t{' '.join(word_coarse_pos_sem)}\")\n",
    "            f1.write(f\"{' '.join(word_coarse_pos_sem)}\\n\")\n",
    "#             break"
   ]
  }
 ],
 "metadata": {
  "kernelspec": {
   "display_name": "Python 3",
   "language": "python",
   "name": "python3"
  },
  "language_info": {
   "codemirror_mode": {
    "name": "ipython",
    "version": 3
   },
   "file_extension": ".py",
   "mimetype": "text/x-python",
   "name": "python",
   "nbconvert_exporter": "python",
   "pygments_lexer": "ipython3",
   "version": "3.6.2"
  }
 },
 "nbformat": 4,
 "nbformat_minor": 2
}
