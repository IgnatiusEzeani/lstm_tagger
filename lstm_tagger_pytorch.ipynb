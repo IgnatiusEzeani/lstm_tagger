{
 "cells": [
  {
   "cell_type": "markdown",
   "metadata": {},
   "source": [
    "## LSTM Part-of-Speech Tagger\n",
    "### Step 1: Importing the <code>torch</code>  and other libraries"
   ]
  },
  {
   "cell_type": "code",
   "execution_count": 56,
   "metadata": {},
   "outputs": [],
   "source": [
    "#torch stuff\n",
    "import torch\n",
    "import torch.nn as nn\n",
    "import torch.nn.functional as F\n",
    "import torch.optim as optim\n",
    "torch.manual_seed(1)\n",
    "\n",
    "#other stuff\n",
    "import numpy as np\n",
    "import glob, os, random\n",
    "from sklearn.metrics import accuracy_score, precision_score, recall_score, f1_score, confusion_matrix\n",
    "import warnings"
   ]
  },
  {
   "cell_type": "markdown",
   "metadata": {},
   "source": [
    "### Step 2: Get the helper functions"
   ]
  },
  {
   "cell_type": "code",
   "execution_count": 67,
   "metadata": {},
   "outputs": [],
   "source": [
    "# Read the data file\n",
    "def read_data(filepath):\n",
    "    data = []\n",
    "    with open(filepath, 'r', encoding=\"utf8\") as f:\n",
    "        for line in f:\n",
    "            data.append(tuple(zip(*[wt.split('/') for wt in line.strip().split()])))\n",
    "    return data\n",
    "\n",
    "# Get vocabs and tagset\n",
    "def get_vocab_tagset(data):\n",
    "    token_size, vocabs, tagset = 0, set(), set()\n",
    "    for words, tags in data:\n",
    "        token_size += len(words)\n",
    "        vocabs.update(words)\n",
    "        tagset.update(tags)\n",
    "    return vocabs, tagset, token_size\n",
    "\n",
    "# convert the sequencies to indexes and tensors\n",
    "def prepare_sequence(seq, to_ix):\n",
    "    idxs = [to_ix[w] if w in to_ix else 0 for w in seq]\n",
    "    return torch.tensor(idxs, dtype=torch.long)\n",
    "\n",
    "# indexing list elements: use this for vocabs and tagset\n",
    "def to_index(aList):\n",
    "    elem_to_idx = {e:aList.index(e)+1 for e in aList}\n",
    "    elem_to_idx['Unknown'] = 0  \n",
    "    idx_to_elem = {i:e for e,i in elem_to_idx.items()}\n",
    "    return elem_to_idx, idx_to_elem\n",
    "\n",
    "# import numpy as np\n",
    "def score_to_tag(tag_scores, i_to_tag):\n",
    "    tagged=[]\n",
    "    for preds in tag_scores:\n",
    "        preds = list(np.array(preds))\n",
    "        idx = preds.index(max(preds))\n",
    "        tagged.append(f\"{i_to_tag[idx]}\")\n",
    "    return tagged\n",
    "\n",
    "# tagged_files = [#\"igbo/ITC5.coarse*\", \"igbo/fiction.coarse*\", #coarse\n",
    "#                 #\"igbo/ITC5.fine*\", \"igbo/fiction.fine*\", #fine\n",
    "#                 \"welsh/*pos_coarse*\",\n",
    "#                 #\"welsh/*sem_coarse*\", \n",
    "#                 #\"welsh/*both_fine*\", \"welsh/*both_coarse*\",\n",
    "#                 #\"english/corpus.small\"\n",
    "#                 #\"swedish/*coarse*\"\n",
    "#                 ]\n",
    "# tagged data file\n",
    "tagged_data_file = \"all_corpora/welsh/cy_pos_coarse_tagged\""
   ]
  },
  {
   "cell_type": "markdown",
   "metadata": {},
   "source": [
    "### Step 3: Preparing the data"
   ]
  },
  {
   "cell_type": "code",
   "execution_count": 68,
   "metadata": {},
   "outputs": [
    {
     "name": "stdout",
     "output_type": "stream",
     "text": [
      "\n",
      "Reading all_corpora/welsh/cy_pos_coarse_tagged ..."
     ]
    }
   ],
   "source": [
    "# Read training data for each folder\n",
    "print(f\"\\nReading {tagged_data_file} ...\", end='')\n",
    "data = read_data(tagged_data_file)\n",
    "vocabs, tagset, token_size = get_vocab_tagset(data)\n",
    "tagset = set(t for t in tagset if t) #Just taking care of some null string in tagset\n",
    "\n",
    "# #Uncomment below for data statistics\n",
    "# print(f\"\\nSentences:\\t{len(training_data)}\\nToken size:\\t{token_size}\\nVocab size:\\t{len(vocabs)}\\nTagset size:\\t{len(tagset)}\")\n",
    "\n",
    "# Shuffle and split data\n",
    "random.seed(7)\n",
    "random.shuffle(data)\n",
    "test_size = 0.1 #90% of data for training; 10% of data for testing\n",
    "train_set, test_set = data[:-int(len(data)*test_size)], data[-int(len(data)*test_size):]\n",
    "\n",
    "EMBEDDING_DIM = 100\n",
    "HIDDEN_DIM = 5    \n",
    "word_to_idx, idx_to_word = to_index(list(vocabs))\n",
    "tag_to_idx, idx_to_tag = to_index(list(tagset))"
   ]
  },
  {
   "cell_type": "markdown",
   "metadata": {},
   "source": [
    "### Step 4: Creating the model"
   ]
  },
  {
   "cell_type": "code",
   "execution_count": 69,
   "metadata": {},
   "outputs": [],
   "source": [
    "class LSTMTagger(nn.Module):\n",
    "    def __init__(self, embedding_dim, hidden_dim, vocab_size, tagset_size):\n",
    "        super(LSTMTagger, self).__init__()\n",
    "        self.hidden_dim = hidden_dim\n",
    "        self.word_embeddings = nn.Embedding(vocab_size, embedding_dim)\n",
    "\n",
    "        # The LSTM takes word embeddings as inputs, and outputs hidden states\n",
    "        # with dimensionality hidden_dim.\n",
    "        self.lstm = nn.LSTM(embedding_dim, hidden_dim)\n",
    "\n",
    "        # The linear layer that maps from hidden state space to tag space\n",
    "        self.hidden2tag = nn.Linear(hidden_dim, tagset_size)\n",
    "\n",
    "    def forward(self, sentence):\n",
    "        embeds = self.word_embeddings(sentence)\n",
    "        lstm_out, _ = self.lstm(embeds.view(len(sentence), 1, -1))\n",
    "        tag_space = self.hidden2tag(lstm_out.view(len(sentence), -1))\n",
    "        tag_scores = F.log_softmax(tag_space, dim=1)\n",
    "        return tag_scores"
   ]
  },
  {
   "cell_type": "markdown",
   "metadata": {},
   "source": [
    "### Step 5: Training the model"
   ]
  },
  {
   "cell_type": "code",
   "execution_count": null,
   "metadata": {},
   "outputs": [
    {
     "name": "stdout",
     "output_type": "stream",
     "text": [
      "\n",
      "Epoch 00: ACC=38.24% PRE=16.75% REC=15.74% F1=13.59%\n",
      "...........................\n",
      "Epoch 10: ACC=68.85% PRE=40.89% REC=43.14% F1=41.53%\n",
      "...........................\n",
      "Epoch 20: ACC=70.45% PRE=47.66% REC=45.66% F1=45.64%\n",
      "...........................\n",
      "Epoch 30: ACC=72.19% PRE=48.25% REC=47.64% F1=47.51%\n",
      "...........................\n",
      "Epoch 40: ACC=73.46% PRE=48.86% REC=49.83% F1=49.03%\n",
      "...........................\n",
      "Epoch 50: ACC=74.26% PRE=49.52% REC=51.06% F1=49.91%\n",
      "...........................\n",
      "Epoch 60: ACC=74.53% PRE=50.42% REC=51.65% F1=50.66%\n"
     ]
    }
   ],
   "source": [
    "model = LSTMTagger(EMBEDDING_DIM, HIDDEN_DIM, len(word_to_idx), len(tag_to_idx))\n",
    "loss_function = nn.NLLLoss()\n",
    "optimizer = optim.SGD(model.parameters(), lr=0.1)\n",
    "\n",
    "# Note that element i,j of the output is the score for tag j for word i.\n",
    "# Here we don't need to train, so the code is wrapped in torch.no_grad()\n",
    "NUM_EPOCHS = 100\n",
    "with warnings.catch_warnings():\n",
    "    warnings.simplefilter(\"ignore\")\n",
    "    for epoch in range(NUM_EPOCHS):  # again, normally you would NOT do 300 epochs, it is toy data\n",
    "        for sentence, tags in train_set:\n",
    "            # Step 1. Remember that Pytorch accumulates gradients.\n",
    "            # We need to clear them out before each instance\n",
    "            model.zero_grad()\n",
    "\n",
    "            # Step 2. Get our inputs ready for the network, that is, turn them into\n",
    "            # Tensors of word indices.\n",
    "            sentence_in = prepare_sequence(sentence, word_to_idx)\n",
    "            targets = prepare_sequence(tags, tag_to_idx)\n",
    "\n",
    "            # Step 3. Run our forward pass.\n",
    "            tag_scores = model(sentence_in)\n",
    "\n",
    "            # Step 4. Compute the loss, gradients, and update the parameters by\n",
    "            #  calling optimizer.step()\n",
    "            loss = loss_function(tag_scores, targets)\n",
    "            loss.backward()\n",
    "            optimizer.step()\n",
    "\n",
    "        with torch.no_grad():\n",
    "            y_gold, y_pred = [], []\n",
    "            for sent in test_set:\n",
    "                y_gold.extend(sent[1])\n",
    "                inputs = prepare_sequence(sent[0], word_to_idx)\n",
    "                tag_scores = model(inputs)\n",
    "                y_pred.extend(score_to_tag(tag_scores, idx_to_tag))\n",
    "\n",
    "            if epoch%10==0 or epoch == NUM_EPOCHS-1:\n",
    "                print(f\"\\nEpoch {epoch:02d}: ACC={accuracy_score(y_gold, y_pred)*100:.2f}%\",end=' ')\n",
    "                print(f\"PRE={precision_score(y_gold, y_pred, average='macro')*100:.2f}%\",end=' ')\n",
    "                print(f\"REC={recall_score(y_gold, y_pred, average='macro')*100:.2f}%\",end=' ')\n",
    "                print(f\"F1={f1_score(y_gold, y_pred, average='macro')*100:.2f}%\")\n",
    "            else:\n",
    "                print('...',end='')\n",
    "    print('--Done--')"
   ]
  },
  {
   "cell_type": "markdown",
   "metadata": {},
   "source": [
    "# ***** Forget about anything below here *****"
   ]
  },
  {
   "cell_type": "code",
   "execution_count": 9,
   "metadata": {},
   "outputs": [],
   "source": [
    "# with open('all_corpora/welsh/cy_pos_fine_tagged', 'w', encoding='utf8') as f1:\n",
    "#     with open('all_corpora/welsh/cy_both_fine_tagged', 'r', encoding='utf8') as f2:\n",
    "#         for line in f2:\n",
    "#             f1.write(\" \".join(\"/\".join(wt.split('|',1)) for wt in line.split())+\"\\n\")"
   ]
  },
  {
   "cell_type": "code",
   "execution_count": 15,
   "metadata": {},
   "outputs": [],
   "source": [
    "# import re\n",
    "# with open('all_corpora/welsh/cy_sem_coarse_tagged', 'w', encoding='utf8') as f1:\n",
    "#     with open('all_corpora/welsh/cy_both_fine_tagged', 'r', encoding='utf8') as f2:\n",
    "#         for line in f2:\n",
    "#             words, tags = tuple(zip(*[wt.split('/',1) for wt in line.strip().split()]))\n",
    "# #             pos_tags = [tag.split('|')[0] for tag in tags]\n",
    "#             sem_tags = [re.findall(r'[A-Za-z]+\\d*',tag.split('|',1)[1])[0] for tag in tags]\n",
    "# #             coarse_pos_sem = [\"|\".join(ps) for ps in zip(pos_tags,sem_tags)]\n",
    "# #             word_coarse_pos_sem = [f\"{w}/{t}\" for w,t in zip(words, coarse_pos_sem)]\n",
    "#             word_coarse_sem = [f\"{w}/{t}\" for w,t in zip(words, sem_tags)]\n",
    "# #             print(f\"{words}\\n\\n{tags}\\n\\n{both}\\n\\n{' '.join(word_both_tags)}\")\n",
    "# #             print(f\"{i}\\t{' '.join(word_coarse_pos_sem)}\")\n",
    "#             f1.write(f\"{' '.join(word_coarse_sem)}\\n\")\n",
    "# #             break"
   ]
  }
 ],
 "metadata": {
  "kernelspec": {
   "display_name": "Python 3",
   "language": "python",
   "name": "python3"
  },
  "language_info": {
   "codemirror_mode": {
    "name": "ipython",
    "version": 3
   },
   "file_extension": ".py",
   "mimetype": "text/x-python",
   "name": "python",
   "nbconvert_exporter": "python",
   "pygments_lexer": "ipython3",
   "version": "3.7.0"
  }
 },
 "nbformat": 4,
 "nbformat_minor": 2
}
