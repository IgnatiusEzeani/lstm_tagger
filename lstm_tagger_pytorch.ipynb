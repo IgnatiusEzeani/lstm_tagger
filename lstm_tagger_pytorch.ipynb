{
 "cells": [
  {
   "cell_type": "markdown",
   "metadata": {},
   "source": [
    "## LSTM Part-of-Speech Tagger\n",
    "### Step 1: Importing the <code>torch</code>  and other libraries"
   ]
  },
  {
   "cell_type": "code",
   "execution_count": 101,
   "metadata": {},
   "outputs": [],
   "source": [
    "#torch stuff\n",
    "import torch\n",
    "import torch.nn as nn\n",
    "import torch.nn.functional as F\n",
    "import torch.optim as optim\n",
    "torch.manual_seed(1)\n",
    "\n",
    "#other stuff\n",
    "import numpy as np\n",
    "import glob, os, random\n",
    "from sklearn.metrics import accuracy_score, precision_score, recall_score, f1_score, confusion_matrix\n",
    "import warnings\n",
    "from timeit import default_timer as timer"
   ]
  },
  {
   "cell_type": "markdown",
   "metadata": {},
   "source": [
    "### Step 2: Get the helper functions"
   ]
  },
  {
   "cell_type": "code",
   "execution_count": 102,
   "metadata": {},
   "outputs": [],
   "source": [
    "# Read the data file\n",
    "def read_data(filepath):\n",
    "    data = []\n",
    "    with open(filepath, 'r', encoding=\"utf8\") as f:\n",
    "        for line in f:\n",
    "            data.append(tuple(zip(*[wt.split('/') for wt in line.strip().split()])))\n",
    "    return data\n",
    "\n",
    "# Get vocabs and tagset\n",
    "def get_vocab_tagset(data):\n",
    "    token_size, vocabs, tagset = 0, set(), set()\n",
    "    for words, tags in data:\n",
    "        token_size += len(words)\n",
    "        vocabs.update(words)\n",
    "        tagset.update(tags)\n",
    "    return vocabs, tagset, token_size\n",
    "\n",
    "# convert the sequencies to indexes and tensors\n",
    "def prepare_sequence(seq, to_ix):\n",
    "    idxs = [to_ix[w] if w in to_ix else 0 for w in seq]\n",
    "    return torch.tensor(idxs, dtype=torch.long)\n",
    "\n",
    "# indexing list elements: use this for vocabs and tagset\n",
    "def to_index(aList):\n",
    "    elem_to_idx = {e:aList.index(e)+1 for e in aList}\n",
    "    elem_to_idx['Unknown'] = 0  \n",
    "    idx_to_elem = {i:e for e,i in elem_to_idx.items()}\n",
    "    return elem_to_idx, idx_to_elem\n",
    "\n",
    "# import numpy as np\n",
    "def score_to_tag(tag_scores, i_to_tag):\n",
    "    tagged=[]\n",
    "    for preds in tag_scores:\n",
    "        preds = list(np.array(preds))\n",
    "        idx = preds.index(max(preds))\n",
    "        tagged.append(f\"{i_to_tag[idx]}\")\n",
    "    return tagged\n",
    "\n",
    "tagged_data_file = \"all_corpora/welsh/cy_pos_coarse_tagged\""
   ]
  },
  {
   "cell_type": "markdown",
   "metadata": {},
   "source": [
    "### Step 3: Preparing the data"
   ]
  },
  {
   "cell_type": "code",
   "execution_count": 103,
   "metadata": {},
   "outputs": [
    {
     "name": "stdout",
     "output_type": "stream",
     "text": [
      "\n",
      "Reading all_corpora/welsh/cy_pos_coarse_tagged ..."
     ]
    }
   ],
   "source": [
    "# Read training data for each folder\n",
    "print(f\"\\nReading {tagged_data_file} ...\", end='')\n",
    "data = read_data(tagged_data_file)\n",
    "vocabs, tagset, token_size = get_vocab_tagset(data)\n",
    "tagset = set(t for t in tagset if t) #Just taking care of some null string in tagset\n",
    "\n",
    "# #Uncomment below for data statistics\n",
    "# print(f\"\\nSentences:\\t{len(training_data)}\\nToken size:\\t{token_size}\\nVocab size:\\t{len(vocabs)}\\nTagset size:\\t{len(tagset)}\")\n",
    "\n",
    "# Shuffle and split data\n",
    "random.seed(7)\n",
    "random.shuffle(data)\n",
    "test_size = 0.1 #90% of data for training; 10% of data for testing\n",
    "train_set, test_set = data[:-int(len(data)*test_size)], data[-int(len(data)*test_size):]\n",
    "\n",
    "EMBEDDING_DIM = 100\n",
    "HIDDEN_DIM = 5    \n",
    "word_to_idx, idx_to_word = to_index(list(vocabs))\n",
    "tag_to_idx, idx_to_tag = to_index(list(tagset))"
   ]
  },
  {
   "cell_type": "markdown",
   "metadata": {},
   "source": [
    "### Step 4: Creating the model"
   ]
  },
  {
   "cell_type": "code",
   "execution_count": 69,
   "metadata": {},
   "outputs": [],
   "source": [
    "class LSTMTagger(nn.Module):\n",
    "    def __init__(self, embedding_dim, hidden_dim, vocab_size, tagset_size):\n",
    "        super(LSTMTagger, self).__init__()\n",
    "        self.hidden_dim = hidden_dim\n",
    "        self.word_embeddings = nn.Embedding(vocab_size, embedding_dim)\n",
    "\n",
    "        # The LSTM takes word embeddings as inputs, and outputs hidden states\n",
    "        # with dimensionality hidden_dim.\n",
    "        self.lstm = nn.LSTM(embedding_dim, hidden_dim)\n",
    "\n",
    "        # The linear layer that maps from hidden state space to tag space\n",
    "        self.hidden2tag = nn.Linear(hidden_dim, tagset_size)\n",
    "\n",
    "    def forward(self, sentence):\n",
    "        embeds = self.word_embeddings(sentence)\n",
    "        lstm_out, _ = self.lstm(embeds.view(len(sentence), 1, -1))\n",
    "        tag_space = self.hidden2tag(lstm_out.view(len(sentence), -1))\n",
    "        tag_scores = F.log_softmax(tag_space, dim=1)\n",
    "        return tag_scores"
   ]
  },
  {
   "cell_type": "markdown",
   "metadata": {},
   "source": [
    "### Step 5: Training the model"
   ]
  },
  {
   "cell_type": "code",
   "execution_count": 100,
   "metadata": {},
   "outputs": [
    {
     "name": "stdout",
     "output_type": "stream",
     "text": [
      "\t\t\t\tACC\tPRE\tREC\tF1\n",
      "[..................] Epoch 00:\t50.61\t28.38\t34.19\t29.58\n",
      "[...................] Epoch 20:\t54.54\t31.93\t34.19\t33.15\n",
      "[...................] Epoch 40:\t58.51\t35.62\t34.19\t37.30\n",
      "[...................] Epoch 60:\t61.24\t38.69\t34.19\t40.70\n",
      "[...................] Epoch 80:\t63.23\t41.42\t34.19\t43.41\n",
      "[...................] Epoch 100:\t64.75\t43.49\t34.19\t45.27\n",
      "[...................] Epoch 120:\t66.01\t45.16\t34.19\t46.70\n",
      "[...................] Epoch 140:\t67.05\t46.61\t34.19\t48.05\n",
      "[...................] Epoch 160:\t67.89\t47.80\t34.19\t49.16\n",
      "[...................] Epoch 180:\t68.59\t48.83\t34.19\t50.14\n",
      "[..................] Epoch 199:\t69.13\t49.64\t34.19\t50.85\n",
      "[Done! Total time: 1137.19 secs\n"
     ]
    }
   ],
   "source": [
    "model = LSTMTagger(EMBEDDING_DIM, HIDDEN_DIM, len(word_to_idx), len(tag_to_idx))\n",
    "loss_function = nn.NLLLoss()\n",
    "optimizer = optim.SGD(model.parameters(), lr=0.1)\n",
    "start = timer()\n",
    "\n",
    "\n",
    "ACC, PRE, REC, F1 = [],[],[],[]\n",
    "NUM_EPOCHS = 200\n",
    "\n",
    "print(f\"\\t\\t\\t\\tACC\\tPRE\\tREC\\tF1\\n[{'.'*19}\", end='')\n",
    "with warnings.catch_warnings():\n",
    "    warnings.simplefilter(\"ignore\")\n",
    "    for epoch in range(NUM_EPOCHS):  # again, normally you would NOT do 300 epochs, it is toy data\n",
    "        for sentence, tags in train_set:\n",
    "            # Step 1. Remember that Pytorch accumulates gradients.\n",
    "            # We need to clear them out before each instance\n",
    "            model.zero_grad()\n",
    "\n",
    "            # Step 2. Get our inputs ready for the network, that is, turn them into\n",
    "            # Tensors of word indices.\n",
    "            sentence_in = prepare_sequence(sentence, word_to_idx)\n",
    "            targets = prepare_sequence(tags, tag_to_idx)\n",
    "\n",
    "            # Step 3. Run our forward pass.\n",
    "            tag_scores = model(sentence_in)\n",
    "\n",
    "            # Step 4. Compute the loss, gradients, and update the parameters by\n",
    "            #  calling optimizer.step()\n",
    "            loss = loss_function(tag_scores, targets)\n",
    "            loss.backward()\n",
    "            optimizer.step()\n",
    "\n",
    "        with torch.no_grad():\n",
    "            for sent in test_set:\n",
    "                y_gold.extend(sent[1])\n",
    "                inputs = prepare_sequence(sent[0], word_to_idx)\n",
    "                tag_scores = model(inputs)\n",
    "                y_pred.extend(score_to_tag(tag_scores, idx_to_tag))\n",
    "                \n",
    "            acc=accuracy_score(y_gold, y_pred)*100\n",
    "            pre=precision_score(y_gold, y_pred, average='macro')*100\n",
    "            pre=recall_score(y_gold, y_pred, average='macro')*100\n",
    "            f1=f1_score(y_gold, y_pred, average='macro')*100\n",
    "            \n",
    "            ACC.append(acc)\n",
    "            PRE.append(pre)\n",
    "            REC.append(rec)\n",
    "            F1.append(f1)\n",
    "\n",
    "            if epoch%20==0 or epoch == NUM_EPOCHS-1:\n",
    "                print(f\"] Epoch {epoch:003d}:\\t{acc:.2f}\",end='\\t')\n",
    "                print(f\"{pre:.2f}\",end='\\t')\n",
    "                print(f\"{rec:.2f}\",end='\\t')\n",
    "                print(f\"{f1:.2f}\\n[\", end='')\n",
    "            else:\n",
    "                print('.',end='')\n",
    "print(f'Done! Total time: {timer() - start:.2f} secs')\n",
    "\n",
    "#plot y_gold, y_pred for accuracy, precision and F1"
   ]
  },
  {
   "cell_type": "code",
   "execution_count": 84,
   "metadata": {},
   "outputs": [
    {
     "name": "stdout",
     "output_type": "stream",
     "text": [
      "             precision    recall  f1-score   support\n",
      "\n",
      "        unk       0.00      0.00      0.00         1\n",
      "         Gw       0.46      0.60      0.52        35\n",
      "        Adf       0.60      0.58      0.59       100\n",
      "        YFB       0.80      0.80      0.80       192\n",
      "          B       1.00      0.97      0.98       157\n",
      "        Ans       0.70      0.79      0.74       242\n",
      "        Atd       0.77      0.87      0.82        69\n",
      "          U       0.78      0.75      0.76       386\n",
      "        Rha       0.26      0.17      0.21        35\n",
      "        Cys       0.82      0.65      0.72        91\n",
      "       pron       0.64      0.41      0.50        17\n",
      "         Ar       0.69      0.71      0.70        89\n",
      "      Ebych       0.85      1.00      0.92        75\n",
      "        Rhi       0.50      0.67      0.57         3\n",
      "          E       0.00      0.00      0.00         4\n",
      "\n",
      "avg / total       0.76      0.76      0.76      1496\n",
      "\n",
      "[[  0   0   0   0   0   1   0   0   0   0   0   0   0   0   0]\n",
      " [  0  21   4   0   0   4   0   4   1   0   0   1   0   0   0]\n",
      " [  0   0  58   3   0   8   0  25   0   0   2   1   2   1   0]\n",
      " [  0   7   1 154   0   2   3   2   0   1   0  22   0   0   0]\n",
      " [  0   3   0   0 152   2   0   0   0   0   0   0   0   0   0]\n",
      " [  0   4   5   0   0 190   3  26   6   2   0   1   5   0   0]\n",
      " [  0   1   1   5   0   0  60   1   1   0   0   0   0   0   0]\n",
      " [  0   8  18   3   0  53   2 289   5   5   2   1   0   0   0]\n",
      " [  0   1   0   2   0   6   0  16   6   2   0   1   1   0   0]\n",
      " [  0   0   6   5   0   3   7   3   3  59   0   0   5   0   0]\n",
      " [  0   1   2   0   0   1   0   3   1   1   7   1   0   0   0]\n",
      " [  0   0   0  20   0   0   3   1   0   1   0  63   0   1   0]\n",
      " [  0   0   0   0   0   0   0   0   0   0   0   0  75   0   0]\n",
      " [  0   0   0   0   0   0   0   0   0   1   0   0   0   2   0]\n",
      " [  0   0   2   0   0   0   0   2   0   0   0   0   0   0   0]]\n"
     ]
    }
   ],
   "source": [
    "with warnings.catch_warnings():\n",
    "    warnings.simplefilter(\"ignore\")\n",
    "    target_names = list(tagset)\n",
    "    print(classification_report(y_gold, y_pred, target_names=target_names))\n",
    "    print(confusion_matrix(y_gold, y_pred))"
   ]
  },
  {
   "cell_type": "code",
   "execution_count": 86,
   "metadata": {},
   "outputs": [
    {
     "data": {
      "text/plain": [
       "['unk',\n",
       " 'Gw',\n",
       " 'Adf',\n",
       " 'YFB',\n",
       " 'B',\n",
       " 'Ans',\n",
       " 'Atd',\n",
       " 'U',\n",
       " 'Rha',\n",
       " 'Cys',\n",
       " 'pron',\n",
       " 'Ar',\n",
       " 'Ebych',\n",
       " 'Rhi',\n",
       " 'E']"
      ]
     },
     "execution_count": 86,
     "metadata": {},
     "output_type": "execute_result"
    }
   ],
   "source": [
    "target_names"
   ]
  },
  {
   "cell_type": "markdown",
   "metadata": {},
   "source": [
    "# ***** Forget about anything below here *****"
   ]
  },
  {
   "cell_type": "code",
   "execution_count": 9,
   "metadata": {},
   "outputs": [],
   "source": [
    "# with open('all_corpora/welsh/cy_pos_fine_tagged', 'w', encoding='utf8') as f1:\n",
    "#     with open('all_corpora/welsh/cy_both_fine_tagged', 'r', encoding='utf8') as f2:\n",
    "#         for line in f2:\n",
    "#             f1.write(\" \".join(\"/\".join(wt.split('|',1)) for wt in line.split())+\"\\n\")"
   ]
  },
  {
   "cell_type": "code",
   "execution_count": 15,
   "metadata": {},
   "outputs": [],
   "source": [
    "# import re\n",
    "# with open('all_corpora/welsh/cy_sem_coarse_tagged', 'w', encoding='utf8') as f1:\n",
    "#     with open('all_corpora/welsh/cy_both_fine_tagged', 'r', encoding='utf8') as f2:\n",
    "#         for line in f2:\n",
    "#             words, tags = tuple(zip(*[wt.split('/',1) for wt in line.strip().split()]))\n",
    "# #             pos_tags = [tag.split('|')[0] for tag in tags]\n",
    "#             sem_tags = [re.findall(r'[A-Za-z]+\\d*',tag.split('|',1)[1])[0] for tag in tags]\n",
    "# #             coarse_pos_sem = [\"|\".join(ps) for ps in zip(pos_tags,sem_tags)]\n",
    "# #             word_coarse_pos_sem = [f\"{w}/{t}\" for w,t in zip(words, coarse_pos_sem)]\n",
    "#             word_coarse_sem = [f\"{w}/{t}\" for w,t in zip(words, sem_tags)]\n",
    "# #             print(f\"{words}\\n\\n{tags}\\n\\n{both}\\n\\n{' '.join(word_both_tags)}\")\n",
    "# #             print(f\"{i}\\t{' '.join(word_coarse_pos_sem)}\")\n",
    "#             f1.write(f\"{' '.join(word_coarse_sem)}\\n\")\n",
    "# #             break"
   ]
  }
 ],
 "metadata": {
  "kernelspec": {
   "display_name": "Python 3",
   "language": "python",
   "name": "python3"
  },
  "language_info": {
   "codemirror_mode": {
    "name": "ipython",
    "version": 3
   },
   "file_extension": ".py",
   "mimetype": "text/x-python",
   "name": "python",
   "nbconvert_exporter": "python",
   "pygments_lexer": "ipython3",
   "version": "3.7.0"
  }
 },
 "nbformat": 4,
 "nbformat_minor": 2
}
