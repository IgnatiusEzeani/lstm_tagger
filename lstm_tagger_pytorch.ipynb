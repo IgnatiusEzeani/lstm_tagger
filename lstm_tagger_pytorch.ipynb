{
 "cells": [
  {
   "cell_type": "markdown",
   "metadata": {},
   "source": [
    "## LSTM Part-of-Speech Tagger\n",
    "### Step 1: Importing the <code>torch</code>  and other libraries"
   ]
  },
  {
   "cell_type": "code",
   "execution_count": 324,
   "metadata": {},
   "outputs": [
    {
     "data": {
      "text/plain": [
       "<torch._C.Generator at 0x7f85775170b0>"
      ]
     },
     "execution_count": 324,
     "metadata": {},
     "output_type": "execute_result"
    }
   ],
   "source": [
    "import torch\n",
    "import torch.nn as nn\n",
    "import torch.nn.functional as F\n",
    "import torch.optim as optim\n",
    "\n",
    "import numpy as np\n",
    "import glob, os, random\n",
    "\n",
    "torch.manual_seed(1)"
   ]
  },
  {
   "cell_type": "markdown",
   "metadata": {},
   "source": [
    "### Step 2: Get the helper functions"
   ]
  },
  {
   "cell_type": "code",
   "execution_count": 387,
   "metadata": {},
   "outputs": [],
   "source": [
    "# Read the data file\n",
    "def read_data(filepath):\n",
    "    data = []\n",
    "    with open(filepath, 'r', encoding=\"utf8\") as f:\n",
    "        for line in f:\n",
    "            data.append(tuple(zip(*[wt.split('/') for wt in line.strip().split()])))\n",
    "    return data\n",
    "\n",
    "# Get vocabs and tagset\n",
    "def get_vocab_tagset(data):\n",
    "    token_size, vocabs, tagset = 0, set(), set()\n",
    "    for words, tags in data:\n",
    "        token_size += len(words)\n",
    "        vocabs.update(words)\n",
    "        tagset.update(tags)\n",
    "    return vocabs, tagset, token_size\n",
    "\n",
    "# convert the sequencies to indexes and tensors\n",
    "def prepare_sequence(seq, to_ix):\n",
    "    idxs = [to_ix[w] if w in to_ix else 0 for w in seq]\n",
    "    return torch.tensor(idxs, dtype=torch.long)\n",
    "\n",
    "# indexing list elements: use this for vocabs and tagset\n",
    "def to_index(aList):\n",
    "    elem_to_idx = {e:aList.index(e)+1 for e in aList}\n",
    "    elem_to_idx['Unknown'] = 0  \n",
    "    idx_to_elem = {i:e for e,i in elem_to_idx.items()}\n",
    "    return elem_to_idx, idx_to_elem\n",
    "\n",
    "# with torch.no_grad():\n",
    "#     y_gold, y_pred = [], []\n",
    "#     for sent in test_set:\n",
    "#         y_gold.extend(sent[1])\n",
    "        \n",
    "#         y_pred.extend(test_sent(sent))\n",
    "#     score = [yg==yp for yg,yp in zip(y_gold, y_pred)]\n",
    "#     return sum(score)/len(score)\n",
    "#     inputs = prepare_sequence(tagged_test_sent[0], word_to_idx)\n",
    "#     tag_scores = model(inputs)\n",
    "#     return score_to_tag(untagged_sent, tag_scores, idx_to_tag)\n",
    "\n",
    "# def test_all(test_set):\n",
    "#     y_gold, y_pred = [], []\n",
    "#     for sent in test_set:\n",
    "#         y_gold.extend(sent[1])\n",
    "        \n",
    "#         y_pred.extend(test_sent(sent))\n",
    "#     score = [yg==yp for yg,yp in zip(y_gold, y_pred)]\n",
    "#     return sum(score)/len(score)\n",
    "\n",
    "# import numpy as np\n",
    "def score_to_tag(sent, tag_scores, i_to_tag):\n",
    "    tagged=[]\n",
    "    for w, preds in list(zip(sent, tag_scores)):\n",
    "        preds = list(np.array(preds))\n",
    "        idx = preds.index(max(preds))\n",
    "        tagged.append(f\"{i_to_tag[idx]}\")\n",
    "    return tagged\n",
    "\n",
    "# tagged_files = [#\"igbo/ITC5.coarse*\", \"igbo/fiction.coarse*\", #coarse\n",
    "#                 #\"igbo/ITC5.fine*\", \"igbo/fiction.fine*\", #fine\n",
    "#                 \"welsh/*pos_coarse*\",\n",
    "#                 #\"welsh/*sem_coarse*\", \n",
    "#                 #\"welsh/*both_fine*\", \"welsh/*both_coarse*\",\n",
    "#                 #\"english/corpus.small\"\n",
    "#                 #\"swedish/*coarse*\"\n",
    "#                 ]\n",
    "# tagged data file\n",
    "tagged_data_file = \"welsh/cy_pos_coarse_tagged\""
   ]
  },
  {
   "cell_type": "markdown",
   "metadata": {},
   "source": [
    "### Step 3: Preparing the data"
   ]
  },
  {
   "cell_type": "code",
   "execution_count": 388,
   "metadata": {},
   "outputs": [
    {
     "name": "stdout",
     "output_type": "stream",
     "text": [
      "\n",
      "Reading welsh/cy_pos_coarse_tagged ..."
     ]
    }
   ],
   "source": [
    "# Read training data for each folder\n",
    "print(f\"\\nReading {tagged_data_file} ...\", end='')\n",
    "data = read_data(file)\n",
    "vocabs, tagset, token_size = get_vocab_tagset(data)\n",
    "\n",
    "# #Uncomment below for data statistics\n",
    "# print(f\"\\nSentences:\\t{len(training_data)}\\nToken size:\\t{token_size}\\nVocab size:\\t{len(vocabs)}\\nTagset size:\\t{len(tagset)}\")\n",
    "\n",
    "# Shuffle and split data\n",
    "random.seed(7)\n",
    "random.shuffle(data)\n",
    "test_size = 0.1 #90% of data for training; 10% of data for testing\n",
    "train_set, test_set = data[:-int(len(data)*test_size)], data[-int(len(data)*test_size):]\n",
    "\n",
    "EMBEDDING_DIM = 100\n",
    "HIDDEN_DIM = 5    \n",
    "word_to_idx, idx_to_word = to_index(list(vocabs))\n",
    "tag_to_idx, idx_to_tag = to_index(list(tagset))"
   ]
  },
  {
   "cell_type": "markdown",
   "metadata": {},
   "source": [
    "### Step 4: Creating the model"
   ]
  },
  {
   "cell_type": "code",
   "execution_count": 389,
   "metadata": {
    "collapsed": true
   },
   "outputs": [],
   "source": [
    "class LSTMTagger(nn.Module):\n",
    "    def __init__(self, embedding_dim, hidden_dim, vocab_size, tagset_size):\n",
    "        super(LSTMTagger, self).__init__()\n",
    "        self.hidden_dim = hidden_dim\n",
    "        self.word_embeddings = nn.Embedding(vocab_size, embedding_dim)\n",
    "\n",
    "        # The LSTM takes word embeddings as inputs, and outputs hidden states\n",
    "        # with dimensionality hidden_dim.\n",
    "        self.lstm = nn.LSTM(embedding_dim, hidden_dim)\n",
    "\n",
    "        # The linear layer that maps from hidden state space to tag space\n",
    "        self.hidden2tag = nn.Linear(hidden_dim, tagset_size)\n",
    "\n",
    "    def forward(self, sentence):\n",
    "        embeds = self.word_embeddings(sentence)\n",
    "        lstm_out, _ = self.lstm(embeds.view(len(sentence), 1, -1))\n",
    "        tag_space = self.hidden2tag(lstm_out.view(len(sentence), -1))\n",
    "        tag_scores = F.log_softmax(tag_space, dim=1)\n",
    "        return tag_scores"
   ]
  },
  {
   "cell_type": "markdown",
   "metadata": {},
   "source": [
    "### Step 5: Training the model"
   ]
  },
  {
   "cell_type": "code",
   "execution_count": 392,
   "metadata": {},
   "outputs": [
    {
     "name": "stdout",
     "output_type": "stream",
     "text": [
      "Epoch:0 = 9.87\n",
      "Epoch:1 = 21.02\n",
      "Epoch:2 = 20.68\n",
      "Epoch:3 = 19.06\n",
      "Epoch:4 = 19.57\n",
      "Epoch:5 = 19.23\n",
      "Epoch:6 = 19.06\n",
      "Epoch:7 = 18.81\n",
      "Epoch:8 = 18.64\n",
      "Epoch:9 = 18.21\n",
      "Epoch:10 = 17.79\n",
      "Epoch:11 = 17.79\n",
      "Epoch:12 = 17.70\n",
      "Epoch:13 = 18.04\n",
      "Epoch:14 = 17.96\n",
      "Epoch:15 = 17.79\n",
      "Epoch:16 = 17.96\n",
      "Epoch:17 = 17.79\n",
      "Epoch:18 = 17.79\n",
      "Epoch:19 = 17.45\n",
      "Epoch:20 = 17.36\n",
      "Epoch:21 = 17.45\n",
      "Epoch:22 = 17.45\n",
      "Epoch:23 = 17.19\n",
      "Epoch:24 = 17.11\n",
      "Epoch:25 = 17.19\n",
      "Epoch:26 = 17.11\n",
      "Epoch:27 = 17.11\n",
      "Epoch:28 = 17.28\n",
      "Epoch:29 = 17.19\n",
      "Epoch:30 = 17.28\n",
      "Epoch:31 = 17.11\n",
      "Epoch:32 = 17.11\n",
      "Epoch:33 = 17.19\n",
      "Epoch:34 = 17.11\n",
      "Epoch:35 = 16.85\n",
      "Epoch:36 = 17.02\n",
      "Epoch:37 = 16.94\n",
      "Epoch:38 = 16.94\n",
      "Epoch:39 = 17.11\n",
      "Epoch:40 = 17.11\n",
      "Epoch:41 = 16.94\n",
      "Epoch:42 = 17.02\n",
      "Epoch:43 = 16.94\n",
      "Epoch:44 = 16.85\n",
      "Epoch:45 = 16.68\n",
      "Epoch:46 = 16.68\n",
      "Epoch:47 = 16.60\n",
      "Epoch:48 = 16.26\n",
      "Epoch:49 = 16.51\n",
      "Epoch:50 = 16.60\n",
      "Epoch:51 = 16.51\n",
      "Epoch:52 = 16.34\n",
      "Epoch:53 = 16.34\n",
      "Epoch:54 = 16.34\n",
      "Epoch:55 = 16.68\n",
      "Epoch:56 = 16.51\n",
      "Epoch:57 = 16.51\n",
      "Epoch:58 = 16.43\n",
      "Epoch:59 = 16.51\n",
      "Epoch:60 = 16.51\n",
      "Epoch:61 = 16.60\n",
      "Epoch:62 = 16.60\n",
      "Epoch:63 = 16.43\n",
      "Epoch:64 = 16.43\n",
      "Epoch:65 = 16.43\n",
      "Epoch:66 = 16.43\n",
      "Epoch:67 = 16.60\n",
      "Epoch:68 = 16.60\n",
      "Epoch:69 = 16.60\n",
      "Epoch:70 = 16.60\n",
      "Epoch:71 = 16.68\n",
      "Epoch:72 = 16.51\n",
      "Epoch:73 = 16.85\n",
      "Epoch:74 = 16.77\n",
      "Epoch:75 = 16.77\n",
      "Epoch:76 = 16.77\n",
      "Epoch:77 = 16.85\n",
      "Epoch:78 = 16.77\n",
      "Epoch:79 = 16.68\n",
      "Epoch:80 = 16.85\n",
      "Epoch:81 = 16.68\n",
      "Epoch:82 = 16.68\n",
      "Epoch:83 = 16.68\n",
      "Epoch:84 = 16.77\n",
      "Epoch:85 = 16.68\n",
      "Epoch:86 = 16.60\n",
      "Epoch:87 = 16.77\n",
      "Epoch:88 = 16.85\n",
      "Epoch:89 = 16.85\n",
      "Epoch:90 = 16.68\n",
      "Epoch:91 = 16.77\n",
      "Epoch:92 = 17.02\n",
      "Epoch:93 = 16.94\n",
      "Epoch:94 = 16.94\n",
      "Epoch:95 = 16.77\n",
      "Epoch:96 = 17.02\n",
      "Epoch:97 = 16.94\n",
      "Epoch:98 = 16.94\n",
      "Epoch:99 = 16.94\n"
     ]
    }
   ],
   "source": [
    "model = LSTMTagger(EMBEDDING_DIM, HIDDEN_DIM, len(word_to_idx), len(tag_to_idx))\n",
    "loss_function = nn.NLLLoss()\n",
    "optimizer = optim.SGD(model.parameters(), lr=0.1)\n",
    "\n",
    "# Note that element i,j of the output is the score for tag j for word i.\n",
    "# Here we don't need to train, so the code is wrapped in torch.no_grad()\n",
    "\n",
    "for epoch in range(100):  # again, normally you would NOT do 300 epochs, it is toy data\n",
    "    print(f\"Epoch:{epoch} = {test_all(test_set)*100:.2f}\")\n",
    "    for sentence, tags in train_set:\n",
    "        # Step 1. Remember that Pytorch accumulates gradients.\n",
    "        # We need to clear them out before each instance\n",
    "        model.zero_grad()\n",
    "\n",
    "        # Step 2. Get our inputs ready for the network, that is, turn them into\n",
    "        # Tensors of word indices.\n",
    "        sentence_in = prepare_sequence(sentence, word_to_idx)\n",
    "        targets = prepare_sequence(tags, tag_to_idx)\n",
    "\n",
    "        # Step 3. Run our forward pass.\n",
    "        tag_scores = model(sentence_in)\n",
    "\n",
    "        # Step 4. Compute the loss, gradients, and update the parameters by\n",
    "        #  calling optimizer.step()\n",
    "        loss = loss_function(tag_scores, targets)\n",
    "        loss.backward()\n",
    "        optimizer.step()"
   ]
  },
  {
   "cell_type": "code",
   "execution_count": 316,
   "metadata": {},
   "outputs": [
    {
     "data": {
      "text/plain": [
       "'Score:\\t76.92%'"
      ]
     },
     "execution_count": 316,
     "metadata": {},
     "output_type": "execute_result"
    }
   ],
   "source": [
    "# print(\"\\nScores after training:\")\n",
    "def test_score():\n",
    "    with torch.no_grad():\n",
    "        inputs = prepare_sequence(untagged_sent, word_to_idx)\n",
    "        tag_scores = model(inputs)\n",
    "        model_tagged = score_to_tag(untagged_sent, tag_scores, idx_to_tag)\n",
    "        #print(\" \".join(model_tagged))\n",
    "        scores = [t1==t2 for t1,t2 in zip(tagged_sent, model_tagged)]\n",
    "        return(f\"Score:\\t{sum(scores)/len(scores)*100:.2f}%\")\n",
    "test_score()"
   ]
  },
  {
   "cell_type": "code",
   "execution_count": 198,
   "metadata": {},
   "outputs": [],
   "source": [
    "with open('all_corpora/welsh/cy_both_coarse_tagged', 'w', encoding='utf8') as f1:\n",
    "    with open('all_corpora/welsh/cy_both_fine_tagged', 'r', encoding='utf8') as f2:\n",
    "        i=0\n",
    "        for line in f2:\n",
    "            words, tags = tuple(zip(*[wt.split('/') for wt in line.strip().split()]))\n",
    "            pos_tags = [tag.split('|')[0] for tag in tags]\n",
    "            sem_tags = [re.findall(r'[A-Za-z]+\\d*',tag.split('|')[1])[0] for tag in tags]\n",
    "            coarse_pos_sem = [\"|\".join(ps) for ps in zip(pos_tags,sem_tags)]\n",
    "            word_coarse_pos_sem = [f\"{w}/{t}\" for w,t in zip(words, coarse_pos_sem)]\n",
    "#             print(f\"{words}\\n\\n{tags}\\n\\n{both}\\n\\n{' '.join(word_both_tags)}\")\n",
    "            i+=1\n",
    "#             print(f\"{i}\\t{' '.join(word_coarse_pos_sem)}\")\n",
    "            f1.write(f\"{' '.join(word_coarse_pos_sem)}\\n\")\n",
    "#             break"
   ]
  }
 ],
 "metadata": {
  "kernelspec": {
   "display_name": "Python 3",
   "language": "python",
   "name": "python3"
  },
  "language_info": {
   "codemirror_mode": {
    "name": "ipython",
    "version": 3
   },
   "file_extension": ".py",
   "mimetype": "text/x-python",
   "name": "python",
   "nbconvert_exporter": "python",
   "pygments_lexer": "ipython3",
   "version": "3.6.2"
  }
 },
 "nbformat": 4,
 "nbformat_minor": 2
}
